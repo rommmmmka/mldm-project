{
 "cells": [
  {
   "cell_type": "code",
   "id": "initial_id",
   "metadata": {
    "collapsed": true,
    "ExecuteTime": {
     "end_time": "2024-12-23T08:32:56.635805Z",
     "start_time": "2024-12-23T08:32:56.620060Z"
    }
   },
   "source": [
    "import matplotlib.pyplot as plt\n",
    "import numpy as np\n",
    "import seaborn as sns\n",
    "import pandas as pd"
   ],
   "outputs": [],
   "execution_count": 1
  },
  {
   "metadata": {
    "ExecuteTime": {
     "end_time": "2024-12-23T10:57:18.946212Z",
     "start_time": "2024-12-23T10:57:18.926007Z"
    }
   },
   "cell_type": "code",
   "source": "SLEEP_STAGES = [\"W\", \"N1\", \"N2\", \"N3\", \"REM\"]",
   "id": "277adc365f2becb8",
   "outputs": [],
   "execution_count": 19
  },
  {
   "metadata": {
    "ExecuteTime": {
     "end_time": "2024-12-23T10:57:19.133398Z",
     "start_time": "2024-12-23T10:57:19.120397Z"
    }
   },
   "cell_type": "code",
   "source": [
    "s = \"\"\"\n",
    "[[115  31  17   2   0]\n",
    " [ 12  46  49   0  12]\n",
    " [  4  12 337  11   9]\n",
    " [  1   0  60 117   0]\n",
    " [  1  14  59   0  45]]\n",
    " [[ 83  16  16   0   0]\n",
    " [  8  42  92   0   2]\n",
    " [ 25  17 274   7   0]\n",
    " [  1   0  62 134   0]\n",
    " [  4  12  91   0  55]]\n",
    " [[ 50  14  12   5   1]\n",
    " [  2  34  23   0  14]\n",
    " [  0  11 242   6   4]\n",
    " [  0   0  64 224   0]\n",
    " [  1  17  67   1  32]]\n",
    " [[ 55  60  40   0   2]\n",
    " [  4  65  55   0  10]\n",
    " [  1  11 198   1   7]\n",
    " [  0   0  81  77   0]\n",
    " [  3  41  58   0  25]]\n",
    "[[141  87  46   1  27]\n",
    " [  4  28  21   0  19]\n",
    " [  1  12 269   0  12]\n",
    " [  0   0  77 117   1]\n",
    " [  2  15  26   1  37]]\n",
    " [[ 59  10   6   3   0]\n",
    " [ 14  62  60   0   0]\n",
    " [ 10  10 248  27   1]\n",
    " [  2   0  43 202   0]\n",
    " [  7  20  49   0  20]]\n",
    " [[132   0  76  13   1]\n",
    " [  2   6  53   0   7]\n",
    " [  0   1 130  29   1]\n",
    " [  0   0  36 226   0]\n",
    " [  3   0  73   6  19]]\n",
    "\"\"\""
   ],
   "id": "c09615631552de09",
   "outputs": [],
   "execution_count": 20
  },
  {
   "metadata": {
    "ExecuteTime": {
     "end_time": "2024-12-23T10:57:19.334851Z",
     "start_time": "2024-12-23T10:57:19.320854Z"
    }
   },
   "cell_type": "code",
   "source": [
    "processed_string = s.replace('[', '').replace(']', '').strip()\n",
    "rows = [list(map(int, row.split())) for row in processed_string.splitlines()]\n",
    "array_3d = np.array(rows).reshape(-1, 5, 5)  #\n",
    "result = np.sum(array_3d, axis=0)"
   ],
   "id": "7e215af665da31f0",
   "outputs": [],
   "execution_count": 21
  },
  {
   "metadata": {
    "ExecuteTime": {
     "end_time": "2024-12-23T10:57:19.742577Z",
     "start_time": "2024-12-23T10:57:19.731143Z"
    }
   },
   "cell_type": "code",
   "source": [
    "result = np.array(result, dtype=np.int32)\n",
    "result"
   ],
   "id": "637a3e8ded59a4b7",
   "outputs": [
    {
     "data": {
      "text/plain": [
       "array([[ 635,  218,  213,   24,   31],\n",
       "       [  46,  283,  353,    0,   64],\n",
       "       [  41,   74, 1698,   81,   34],\n",
       "       [   4,    0,  423, 1097,    1],\n",
       "       [  21,  119,  423,    8,  233]], dtype=int32)"
      ]
     },
     "execution_count": 22,
     "metadata": {},
     "output_type": "execute_result"
    }
   ],
   "execution_count": 22
  },
  {
   "metadata": {
    "ExecuteTime": {
     "end_time": "2024-12-23T10:57:20.432905Z",
     "start_time": "2024-12-23T10:57:20.201159Z"
    }
   },
   "cell_type": "code",
   "source": [
    "sns.heatmap(\n",
    "    pd.DataFrame(result),\n",
    "    cmap=\"Reds\",\n",
    "    annot=True,\n",
    "    xticklabels=SLEEP_STAGES,\n",
    "    yticklabels=SLEEP_STAGES,\n",
    "    fmt='g',\n",
    "    cbar=False\n",
    ")\n",
    "plt.xlabel(\"Predicted\")\n",
    "plt.ylabel(\"True\")\n",
    "plt.savefig(\"1.png\")"
   ],
   "id": "93095a226ee491c2",
   "outputs": [
    {
     "data": {
      "text/plain": [
       "<Figure size 640x480 with 1 Axes>"
      ],
      "image/png": "[encoded data removed]"
     },
     "metadata": {},
     "output_type": "display_data"
    }
   ],
   "execution_count": 23
  },
  {
   "metadata": {
    "ExecuteTime": {
     "end_time": "2024-12-23T10:57:20.666201Z",
     "start_time": "2024-12-23T10:57:20.654182Z"
    }
   },
   "cell_type": "code",
   "source": [
    "TP = np.diag(result)\n",
    "FP = np.sum(result, axis=0) - TP\n",
    "FN = np.sum(result, axis=1) - TP\n",
    "TN = np.sum(result) - (TP + FP + FN)\n",
    "\n",
    "print(\"True Positives (TP):\", TP)\n",
    "# print(\"False Positives (FP):\", FP)\n",
    "print(\"False Negatives (FN):\", FN)"
   ],
   "id": "1c7a9d67aefb6853",
   "outputs": [
    {
     "name": "stdout",
     "output_type": "stream",
     "text": [
      "True Positives (TP): [ 635  283 1698 1097  233]\n",
      "False Negatives (FN): [486 463 230 428 571]\n"
     ]
    }
   ],
   "execution_count": 24
  },
  {
   "metadata": {
    "ExecuteTime": {
     "end_time": "2024-12-23T10:57:21.147649Z",
     "start_time": "2024-12-23T10:57:21.134665Z"
    }
   },
   "cell_type": "code",
   "source": [
    "accuracy = np.sum(TP) / np.sum(result)\n",
    "\n",
    "# Precision, Recall, F1-Score for each class\n",
    "precision = TP / (TP + FP)  # Avoid division by zero\n",
    "recall = TP / (TP + FN)\n",
    "f1_score = 2 * (precision * recall) / (precision + recall)\n",
    "\n",
    "# Average Precision, Recall, F1-Score\n",
    "avg_precision = np.mean(precision)\n",
    "avg_recall = np.mean(recall)\n",
    "avg_f1_score = np.mean(f1_score)\n",
    "\n",
    "# Print the results\n",
    "print(\"Accuracy:\", accuracy)\n",
    "print(\"Precision for each class:\", precision)\n",
    "print(\"Recall for each class:\", recall)\n",
    "print(\"F1-Score for each class:\", f1_score)\n",
    "print(\"Average Precision:\", avg_precision)\n",
    "print(\"Average Recall:\", avg_recall)\n",
    "print(\"Average F1-Score:\", avg_f1_score)"
   ],
   "id": "3d05b5d95bec5538",
   "outputs": [
    {
     "name": "stdout",
     "output_type": "stream",
     "text": [
      "Accuracy: 0.6443500979751796\n",
      "Precision for each class: [0.85006693 0.40778098 0.54598071 0.90661157 0.64187328]\n",
      "Recall for each class: [0.56645852 0.37935657 0.88070539 0.71934426 0.289801  ]\n",
      "F1-Score for each class: [0.67987152 0.39305556 0.67407701 0.80219378 0.39931448]\n",
      "Average Precision: 0.670462694022344\n",
      "Average Recall: 0.5671331478109488\n",
      "Average F1-Score: 0.5897024712882216\n"
     ]
    }
   ],
   "execution_count": 25
  },
  {
   "metadata": {
    "ExecuteTime": {
     "end_time": "2024-12-23T10:57:21.832452Z",
     "start_time": "2024-12-23T10:57:21.819477Z"
    }
   },
   "cell_type": "code",
   "source": [
    "sensitivity = TP / (TP + FN)\n",
    "\n",
    "# Specificity is TN / (TN + FP)\n",
    "specificity = TN / (TN + FP)\n",
    "\n",
    "# Average Sensitivity and Specificity\n",
    "avg_sensitivity = np.mean(sensitivity)\n",
    "avg_specificity = np.mean(specificity)\n",
    "\n",
    "# Print the results\n",
    "print(\"Sensitivity for each class:\", sensitivity)\n",
    "print(\"Specificity for each class:\", specificity)\n",
    "print(\"Average Sensitivity:\", avg_sensitivity)\n",
    "print(\"Average Specificity:\", avg_specificity)"
   ],
   "id": "514f8aba6682a01b",
   "outputs": [
    {
     "name": "stdout",
     "output_type": "stream",
     "text": [
      "Sensitivity for each class: [0.56645852 0.37935657 0.88070539 0.71934426 0.289801  ]\n",
      "Specificity for each class: [0.97761343 0.92357754 0.66348904 0.97542944 0.97556391]\n",
      "Average Sensitivity: 0.5671331478109488\n",
      "Average Specificity: 0.9031346716389324\n"
     ]
    }
   ],
   "execution_count": 26
  }
 ],
 "metadata": {
  "kernelspec": {
   "display_name": "Python 3",
   "language": "python",
   "name": "python3"
  },
  "language_info": {
   "codemirror_mode": {
    "name": "ipython",
    "version": 2
   },
   "file_extension": ".py",
   "mimetype": "text/x-python",
   "name": "python",
   "nbconvert_exporter": "python",
   "pygments_lexer": "ipython2",
   "version": "2.7.6"
  }
 },
 "nbformat": 4,
 "nbformat_minor": 5
}
