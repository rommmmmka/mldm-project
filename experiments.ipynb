{
 "cells": [
  {
   "cell_type": "code",
   "id": "initial_id",
   "metadata": {
    "collapsed": true,
    "ExecuteTime": {
     "end_time": "2024-12-22T03:28:35.868174Z",
     "start_time": "2024-12-22T03:28:28.532045Z"
    }
   },
   "source": [
    "from isruc_sleep import load_dataset, load_annotations\n",
    "from utils import train_test_loop"
   ],
   "outputs": [],
   "execution_count": 1
  },
  {
   "metadata": {
    "ExecuteTime": {
     "end_time": "2024-12-22T03:28:43.012479Z",
     "start_time": "2024-12-22T03:28:42.998475Z"
    }
   },
   "cell_type": "code",
   "source": [
    "CHANNELS = [\"F3-A2\", \"C3-A2\", \"O1-A2\", \"F4-A1\", \"C4-A1\", \"O2-A1\"]\n",
    "SLEEP_STAGES = [\"W\", \"N1\", \"N2\", \"N3\", \"REM\"]"
   ],
   "id": "9e16fe21aea1f7e7",
   "outputs": [],
   "execution_count": 2
  },
  {
   "metadata": {},
   "cell_type": "markdown",
   "source": [
    "## Diferent channels\n",
    "Test subject 1, annotator 1"
   ],
   "id": "ebd2aef0b4883aff"
  },
  {
   "metadata": {
    "ExecuteTime": {
     "end_time": "2024-12-21T14:04:59.489031Z",
     "start_time": "2024-12-21T14:04:59.479082Z"
    }
   },
   "cell_type": "code",
   "source": "channels_subset = [\"F3-A2\", \"C3-A2\", \"O1-A2\"]",
   "id": "8148aa35c6095bc4",
   "outputs": [],
   "execution_count": 4
  },
  {
   "metadata": {
    "ExecuteTime": {
     "end_time": "2024-12-21T22:10:08.941912Z",
     "start_time": "2024-12-21T14:05:00.088550Z"
    }
   },
   "cell_type": "code",
   "source": [
    "subjects_labels = load_annotations()\n",
    "\n",
    "for channel in channels_subset:\n",
    "    print(f\"===CHANNEL {channel}===\")\n",
    "    subjects_data = load_dataset(channel)\n",
    "    train_test_loop(\n",
    "        subjects_data,\n",
    "        subjects_labels,\n",
    "        test_subject=1,\n",
    "        logging=10\n",
    "    )"
   ],
   "id": "c0024f6a4bab9a43",
   "outputs": [
    {
     "name": "stdout",
     "output_type": "stream",
     "text": [
      "===CHANNEL F3-A2===\n"
     ]
    },
    {
     "data": {
      "text/plain": [
       "Training:   0%|          | 0/100 [00:00<?, ?it/s]"
      ],
      "application/vnd.jupyter.widget-view+json": {
       "version_major": 2,
       "version_minor": 0,
       "model_id": "ed2db7847fb84c18b0197e10aa4abd7f"
      }
     },
     "metadata": {},
     "output_type": "display_data"
    },
    {
     "name": "stdout",
     "output_type": "stream",
     "text": [
      "1    Loss: 0.795  Accuracy: 67.977\n",
      "10   Loss: 0.515  Accuracy: 79.030\n",
      "20   Loss: 0.471  Accuracy: 80.428\n",
      "30   Loss: 0.451  Accuracy: 81.764\n",
      "40   Loss: 0.434  Accuracy: 82.344\n",
      "50   Loss: 0.419  Accuracy: 82.823\n",
      "60   Loss: 0.409  Accuracy: 83.440\n",
      "70   Loss: 0.393  Accuracy: 84.171\n",
      "80   Loss: 0.383  Accuracy: 84.272\n",
      "90   Loss: 0.369  Accuracy: 85.079\n",
      "100  Loss: 0.354  Accuracy: 85.532\n",
      "TEST RESULTS\n",
      "Loss: 1.046\n",
      "Accuracy: 0.692\n",
      "W      precision=0.865  recall=0.697  f1=0.772\n",
      "N1     precision=0.447  recall=0.387  f1=0.414\n",
      "N2     precision=0.646  recall=0.903  f1=0.753\n",
      "N3     precision=0.900  recall=0.657  f1=0.760\n",
      "REM    precision=0.682  recall=0.378  f1=0.486\n",
      "[[115  31  17   2   0]\n",
      " [ 12  46  49   0  12]\n",
      " [  4  12 337  11   9]\n",
      " [  1   0  60 117   0]\n",
      " [  1  14  59   0  45]]\n",
      "===CHANNEL C3-A2===\n"
     ]
    },
    {
     "data": {
      "text/plain": [
       "Training:   0%|          | 0/100 [00:00<?, ?it/s]"
      ],
      "application/vnd.jupyter.widget-view+json": {
       "version_major": 2,
       "version_minor": 0,
       "model_id": "b7c213b9dd0148a0a92a1a89c0994e6f"
      }
     },
     "metadata": {},
     "output_type": "display_data"
    },
    {
     "name": "stdout",
     "output_type": "stream",
     "text": [
      "1    Loss: 0.808  Accuracy: 67.372\n",
      "10   Loss: 0.524  Accuracy: 78.992\n",
      "20   Loss: 0.494  Accuracy: 80.063\n",
      "30   Loss: 0.476  Accuracy: 80.340\n",
      "40   Loss: 0.456  Accuracy: 81.563\n",
      "50   Loss: 0.436  Accuracy: 82.306\n",
      "60   Loss: 0.428  Accuracy: 82.231\n",
      "70   Loss: 0.414  Accuracy: 83.113\n",
      "80   Loss: 0.399  Accuracy: 83.819\n",
      "90   Loss: 0.391  Accuracy: 84.335\n",
      "100  Loss: 0.382  Accuracy: 84.827\n",
      "TEST RESULTS\n",
      "Loss: 1.093\n",
      "Accuracy: 0.688\n",
      "W      precision=0.877  recall=0.733  f1=0.799\n",
      "N1     precision=0.488  recall=0.521  f1=0.504\n",
      "N2     precision=0.642  recall=0.874  f1=0.740\n",
      "N3     precision=0.805  recall=0.719  f1=0.760\n",
      "REM    precision=0.864  recall=0.160  f1=0.270\n",
      "[[121  24  18   2   0]\n",
      " [ 11  62  43   1   2]\n",
      " [  4  14 326  28   1]\n",
      " [  1   0  49 128   0]\n",
      " [  1  27  72   0  19]]\n",
      "===CHANNEL O1-A2===\n"
     ]
    },
    {
     "data": {
      "text/plain": [
       "Training:   0%|          | 0/100 [00:00<?, ?it/s]"
      ],
      "application/vnd.jupyter.widget-view+json": {
       "version_major": 2,
       "version_minor": 0,
       "model_id": "96f9618301b545a5bbcf6ca02d8a26a6"
      }
     },
     "metadata": {},
     "output_type": "display_data"
    },
    {
     "name": "stdout",
     "output_type": "stream",
     "text": [
      "1    Loss: 0.801  Accuracy: 68.532\n",
      "10   Loss: 0.528  Accuracy: 78.047\n",
      "20   Loss: 0.503  Accuracy: 79.395\n",
      "30   Loss: 0.490  Accuracy: 79.672\n",
      "40   Loss: 0.469  Accuracy: 80.567\n",
      "50   Loss: 0.454  Accuracy: 81.739\n",
      "60   Loss: 0.444  Accuracy: 81.916\n",
      "70   Loss: 0.429  Accuracy: 82.483\n",
      "80   Loss: 0.417  Accuracy: 83.226\n",
      "90   Loss: 0.415  Accuracy: 83.075\n",
      "100  Loss: 0.407  Accuracy: 83.503\n",
      "TEST RESULTS\n",
      "Loss: 0.904\n",
      "Accuracy: 0.688\n",
      "W      precision=0.935  recall=0.788  f1=0.855\n",
      "N1     precision=0.424  recall=0.588  f1=0.493\n",
      "N2     precision=0.674  recall=0.853  f1=0.753\n",
      "N3     precision=0.814  recall=0.663  f1=0.731\n",
      "REM    precision=0.606  recall=0.168  f1=0.263\n",
      "[[130  24   5   3   3]\n",
      " [  6  70  38   0   5]\n",
      " [  3  23 318  24   5]\n",
      " [  0   0  60 118   0]\n",
      " [  0  48  51   0  20]]\n"
     ]
    }
   ],
   "execution_count": 5
  },
  {
   "metadata": {},
   "cell_type": "markdown",
   "source": [
    "## Different annotators\n",
    "Test subject 2, channel F3-A2"
   ],
   "id": "73db3dced79ab317"
  },
  {
   "metadata": {
    "ExecuteTime": {
     "end_time": "2024-12-22T08:53:39.869050Z",
     "start_time": "2024-12-22T03:28:52.821131Z"
    }
   },
   "cell_type": "code",
   "source": [
    "subjects_data = load_dataset(\"F3-A2\")\n",
    "for annotator in [1, 2]:\n",
    "    subjects_labels = load_annotations(annotator)\n",
    "    train_test_loop(\n",
    "        subjects_data,\n",
    "        subjects_labels,\n",
    "        test_subject=2,\n",
    "        logging=10\n",
    "    )"
   ],
   "id": "76fbb815d24f50d9",
   "outputs": [
    {
     "data": {
      "text/plain": [
       "Training:   0%|          | 0/100 [00:00<?, ?it/s]"
      ],
      "application/vnd.jupyter.widget-view+json": {
       "version_major": 2,
       "version_minor": 0,
       "model_id": "cf77ec0115e64c41aa8195fcd0fcd94b"
      }
     },
     "metadata": {},
     "output_type": "display_data"
    },
    {
     "name": "stdout",
     "output_type": "stream",
     "text": [
      "1    Loss: 0.779  Accuracy: 68.357\n",
      "10   Loss: 0.498  Accuracy: 80.020\n",
      "20   Loss: 0.462  Accuracy: 81.492\n",
      "30   Loss: 0.438  Accuracy: 82.423\n",
      "40   Loss: 0.416  Accuracy: 83.480\n",
      "50   Loss: 0.405  Accuracy: 83.392\n",
      "60   Loss: 0.392  Accuracy: 84.160\n",
      "70   Loss: 0.380  Accuracy: 84.776\n",
      "80   Loss: 0.372  Accuracy: 84.625\n",
      "90   Loss: 0.360  Accuracy: 85.204\n",
      "100  Loss: 0.339  Accuracy: 86.122\n",
      "TEST RESULTS\n",
      "Loss: 1.242\n",
      "Accuracy: 0.625\n",
      "W      precision=0.686  recall=0.722  f1=0.703\n",
      "N1     precision=0.483  recall=0.292  f1=0.364\n",
      "N2     precision=0.512  recall=0.848  f1=0.639\n",
      "N3     precision=0.950  recall=0.680  f1=0.793\n",
      "REM    precision=0.965  recall=0.340  f1=0.502\n",
      "[[ 83  16  16   0   0]\n",
      " [  8  42  92   0   2]\n",
      " [ 25  17 274   7   0]\n",
      " [  1   0  62 134   0]\n",
      " [  4  12  91   0  55]]\n"
     ]
    },
    {
     "data": {
      "text/plain": [
       "Training:   0%|          | 0/100 [00:00<?, ?it/s]"
      ],
      "application/vnd.jupyter.widget-view+json": {
       "version_major": 2,
       "version_minor": 0,
       "model_id": "e849fad41c254f028e9a98c204170e42"
      }
     },
     "metadata": {},
     "output_type": "display_data"
    },
    {
     "name": "stdout",
     "output_type": "stream",
     "text": [
      "1    Loss: 0.797  Accuracy: 67.879\n",
      "10   Loss: 0.466  Accuracy: 81.215\n",
      "20   Loss: 0.434  Accuracy: 82.838\n",
      "30   Loss: 0.418  Accuracy: 83.279\n",
      "40   Loss: 0.405  Accuracy: 83.757\n",
      "50   Loss: 0.393  Accuracy: 84.499\n",
      "60   Loss: 0.375  Accuracy: 85.531\n",
      "70   Loss: 0.360  Accuracy: 85.581\n",
      "80   Loss: 0.349  Accuracy: 86.273\n",
      "90   Loss: 0.347  Accuracy: 86.399\n",
      "100  Loss: 0.333  Accuracy: 86.777\n",
      "TEST RESULTS\n",
      "Loss: 1.441\n",
      "Accuracy: 0.630\n",
      "W      precision=0.836  recall=0.693  f1=0.758\n",
      "N1     precision=0.623  recall=0.311  f1=0.415\n",
      "N2     precision=0.499  recall=0.963  f1=0.657\n",
      "N3     precision=0.993  recall=0.588  f1=0.739\n",
      "REM    precision=0.920  recall=0.253  f1=0.397\n",
      "[[ 61   5  22   0   0]\n",
      " [  8  33  61   0   4]\n",
      " [  2   9 310   1   0]\n",
      " [  2   1  97 143   0]\n",
      " [  0   5 131   0  46]]\n"
     ]
    }
   ],
   "execution_count": 3
  },
  {
   "metadata": {},
   "cell_type": "markdown",
   "source": [
    "## Different test subjects\n",
    "Annotator 1, channel F3-A2"
   ],
   "id": "9b05f2e53592c34c"
  },
  {
   "metadata": {
    "jupyter": {
     "is_executing": true
    },
    "ExecuteTime": {
     "start_time": "2024-12-22T08:53:40.120016Z"
    }
   },
   "cell_type": "code",
   "source": [
    "subjects_data = load_dataset(\"F3-A2\")\n",
    "subjects_labels = load_annotations(annotator)\n",
    "for test_subject in range(3, 11):\n",
    "    train_test_loop(\n",
    "        subjects_data,\n",
    "        subjects_labels,\n",
    "        test_subject=test_subject,\n",
    "        logging=10\n",
    "    )"
   ],
   "id": "e60b0e0728883ddd",
   "outputs": [
    {
     "data": {
      "text/plain": [
       "Training:   0%|          | 0/100 [00:00<?, ?it/s]"
      ],
      "application/vnd.jupyter.widget-view+json": {
       "version_major": 2,
       "version_minor": 0,
       "model_id": "c5060e0445e54f659f28da630bd57f53"
      }
     },
     "metadata": {},
     "output_type": "display_data"
    },
    {
     "name": "stdout",
     "output_type": "stream",
     "text": [
      "1    Loss: 0.783  Accuracy: 68.940\n",
      "10   Loss: 0.483  Accuracy: 80.248\n",
      "20   Loss: 0.457  Accuracy: 82.641\n",
      "30   Loss: 0.440  Accuracy: 82.777\n",
      "40   Loss: 0.408  Accuracy: 83.993\n",
      "50   Loss: 0.400  Accuracy: 84.290\n",
      "60   Loss: 0.399  Accuracy: 84.910\n",
      "70   Loss: 0.371  Accuracy: 85.369\n",
      "80   Loss: 0.382  Accuracy: 85.133\n"
     ]
    }
   ],
   "execution_count": null
  }
 ],
 "metadata": {
  "kernelspec": {
   "display_name": "Python 3",
   "language": "python",
   "name": "python3"
  },
  "language_info": {
   "codemirror_mode": {
    "name": "ipython",
    "version": 2
   },
   "file_extension": ".py",
   "mimetype": "text/x-python",
   "name": "python",
   "nbconvert_exporter": "python",
   "pygments_lexer": "ipython2",
   "version": "2.7.6"
  }
 },
 "nbformat": 4,
 "nbformat_minor": 5
}
