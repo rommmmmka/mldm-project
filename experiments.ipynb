{
 "cells": [
  {
   "cell_type": "code",
   "id": "initial_id",
   "metadata": {
    "collapsed": true,
    "ExecuteTime": {
     "end_time": "2024-12-21T14:04:51.634007Z",
     "start_time": "2024-12-21T14:04:49.130723Z"
    }
   },
   "source": [
    "from isruc_sleep import load_dataset, load_annotations\n",
    "from utils import train_test_loop"
   ],
   "outputs": [],
   "execution_count": 2
  },
  {
   "metadata": {
    "ExecuteTime": {
     "end_time": "2024-12-21T14:04:58.466760Z",
     "start_time": "2024-12-21T14:04:58.453224Z"
    }
   },
   "cell_type": "code",
   "source": [
    "CHANNELS = [\"F3-A2\", \"C3-A2\", \"O1-A2\", \"F4-A1\", \"C4-A1\", \"O2-A1\"]\n",
    "SLEEP_STAGES = [\"W\", \"N1\", \"N2\", \"N3\", \"REM\"]"
   ],
   "id": "9e16fe21aea1f7e7",
   "outputs": [],
   "execution_count": 3
  },
  {
   "metadata": {},
   "cell_type": "markdown",
   "source": [
    "## Diferent channels\n",
    "Test subject 1, annotator 1"
   ],
   "id": "ebd2aef0b4883aff"
  },
  {
   "metadata": {
    "ExecuteTime": {
     "end_time": "2024-12-21T14:04:59.489031Z",
     "start_time": "2024-12-21T14:04:59.479082Z"
    }
   },
   "cell_type": "code",
   "source": "channels_subset = [\"F3-A2\", \"C3-A2\", \"O1-A2\"]",
   "id": "8148aa35c6095bc4",
   "outputs": [],
   "execution_count": 4
  },
  {
   "metadata": {
    "jupyter": {
     "is_executing": true
    },
    "ExecuteTime": {
     "start_time": "2024-12-21T14:05:00.088550Z"
    }
   },
   "cell_type": "code",
   "source": [
    "subjects_labels = load_annotations()\n",
    "\n",
    "for channel in channels_subset:\n",
    "    print(f\"===CHANNEL {channel}===\")\n",
    "    subjects_data = load_dataset(channel)\n",
    "    train_test_loop(\n",
    "        subjects_data,\n",
    "        subjects_labels,\n",
    "        test_subject=1,\n",
    "        logging=10\n",
    "    )"
   ],
   "id": "c0024f6a4bab9a43",
   "outputs": [
    {
     "name": "stdout",
     "output_type": "stream",
     "text": [
      "===CHANNEL F3-A2===\n"
     ]
    },
    {
     "data": {
      "text/plain": [
       "Training:   0%|          | 0/100 [00:00<?, ?it/s]"
      ],
      "application/vnd.jupyter.widget-view+json": {
       "version_major": 2,
       "version_minor": 0,
       "model_id": "ed2db7847fb84c18b0197e10aa4abd7f"
      }
     },
     "metadata": {},
     "output_type": "display_data"
    },
    {
     "name": "stdout",
     "output_type": "stream",
     "text": [
      "1    Loss: 0.795  Accuracy: 67.977\n"
     ]
    }
   ],
   "execution_count": null
  },
  {
   "metadata": {},
   "cell_type": "markdown",
   "source": [
    "## Different annotators\n",
    "Test subject 2, channel F3-A2 ???"
   ],
   "id": "73db3dced79ab317"
  },
  {
   "metadata": {},
   "cell_type": "code",
   "outputs": [],
   "execution_count": null,
   "source": [
    "subjects_data = load_dataset(\"F3-A2\")\n",
    "for annotator in [1, 2]:\n",
    "    subjects_labels = load_annotations(annotator)\n",
    "    train_test_loop(\n",
    "        subjects_data,\n",
    "        subjects_labels,\n",
    "        test_subject=2,\n",
    "        logging=10\n",
    "    )"
   ],
   "id": "76fbb815d24f50d9"
  },
  {
   "metadata": {},
   "cell_type": "markdown",
   "source": [
    "## Different test subjects\n",
    "Annotator 1, channel F3-A2 ???"
   ],
   "id": "9b05f2e53592c34c"
  },
  {
   "metadata": {},
   "cell_type": "code",
   "outputs": [],
   "execution_count": null,
   "source": [
    "subjects_data = load_dataset(\"F3-A2\")\n",
    "subjects_labels = load_annotations(annotator)\n",
    "for test_subject in range(3, 11):\n",
    "    train_test_loop(\n",
    "        subjects_data,\n",
    "        subjects_labels,\n",
    "        test_subject=test_subject,\n",
    "        logging=10\n",
    "    )"
   ],
   "id": "e60b0e0728883ddd"
  }
 ],
 "metadata": {
  "kernelspec": {
   "display_name": "Python 3",
   "language": "python",
   "name": "python3"
  },
  "language_info": {
   "codemirror_mode": {
    "name": "ipython",
    "version": 2
   },
   "file_extension": ".py",
   "mimetype": "text/x-python",
   "name": "python",
   "nbconvert_exporter": "python",
   "pygments_lexer": "ipython2",
   "version": "2.7.6"
  }
 },
 "nbformat": 4,
 "nbformat_minor": 5
}
