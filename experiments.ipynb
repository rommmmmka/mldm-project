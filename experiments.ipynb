{
 "cells": [
  {
   "cell_type": "code",
   "id": "initial_id",
   "metadata": {
    "collapsed": true,
    "ExecuteTime": {
     "end_time": "2024-12-22T23:43:35.684798Z",
     "start_time": "2024-12-22T23:43:29.992581Z"
    }
   },
   "source": [
    "from isruc_sleep import load_dataset, load_annotations\n",
    "from utils import train_test_loop"
   ],
   "outputs": [],
   "execution_count": 2
  },
  {
   "metadata": {
    "ExecuteTime": {
     "end_time": "2024-12-22T23:43:37.325271Z",
     "start_time": "2024-12-22T23:43:37.309383Z"
    }
   },
   "cell_type": "code",
   "source": [
    "CHANNELS = [\"F3-A2\", \"C3-A2\", \"O1-A2\", \"F4-A1\", \"C4-A1\", \"O2-A1\"]\n",
    "SLEEP_STAGES = [\"W\", \"N1\", \"N2\", \"N3\", \"REM\"]"
   ],
   "id": "9e16fe21aea1f7e7",
   "outputs": [],
   "execution_count": 3
  },
  {
   "metadata": {},
   "cell_type": "markdown",
   "source": [
    "## Diferent channels\n",
    "Test subject 1, annotator 1"
   ],
   "id": "ebd2aef0b4883aff"
  },
  {
   "metadata": {
    "ExecuteTime": {
     "end_time": "2024-12-21T14:04:59.489031Z",
     "start_time": "2024-12-21T14:04:59.479082Z"
    }
   },
   "cell_type": "code",
   "source": "channels_subset = [\"F3-A2\", \"C3-A2\", \"O1-A2\"]",
   "id": "8148aa35c6095bc4",
   "outputs": [],
   "execution_count": 4
  },
  {
   "metadata": {
    "ExecuteTime": {
     "end_time": "2024-12-21T22:10:08.941912Z",
     "start_time": "2024-12-21T14:05:00.088550Z"
    }
   },
   "cell_type": "code",
   "source": [
    "subjects_labels = load_annotations()\n",
    "\n",
    "for channel in channels_subset:\n",
    "    print(f\"===CHANNEL {channel}===\")\n",
    "    subjects_data = load_dataset(channel)\n",
    "    train_test_loop(\n",
    "        subjects_data,\n",
    "        subjects_labels,\n",
    "        test_subject=1,\n",
    "        logging=10\n",
    "    )"
   ],
   "id": "c0024f6a4bab9a43",
   "outputs": [
    {
     "name": "stdout",
     "output_type": "stream",
     "text": [
      "===CHANNEL F3-A2===\n"
     ]
    },
    {
     "data": {
      "text/plain": [
       "Training:   0%|          | 0/100 [00:00<?, ?it/s]"
      ],
      "application/vnd.jupyter.widget-view+json": {
       "version_major": 2,
       "version_minor": 0,
       "model_id": "ed2db7847fb84c18b0197e10aa4abd7f"
      }
     },
     "metadata": {},
     "output_type": "display_data"
    },
    {
     "name": "stdout",
     "output_type": "stream",
     "text": [
      "1    Loss: 0.795  Accuracy: 67.977\n",
      "10   Loss: 0.515  Accuracy: 79.030\n",
      "20   Loss: 0.471  Accuracy: 80.428\n",
      "30   Loss: 0.451  Accuracy: 81.764\n",
      "40   Loss: 0.434  Accuracy: 82.344\n",
      "50   Loss: 0.419  Accuracy: 82.823\n",
      "60   Loss: 0.409  Accuracy: 83.440\n",
      "70   Loss: 0.393  Accuracy: 84.171\n",
      "80   Loss: 0.383  Accuracy: 84.272\n",
      "90   Loss: 0.369  Accuracy: 85.079\n",
      "100  Loss: 0.354  Accuracy: 85.532\n",
      "TEST RESULTS\n",
      "Loss: 1.046\n",
      "Accuracy: 0.692\n",
      "W      precision=0.865  recall=0.697  f1=0.772\n",
      "N1     precision=0.447  recall=0.387  f1=0.414\n",
      "N2     precision=0.646  recall=0.903  f1=0.753\n",
      "N3     precision=0.900  recall=0.657  f1=0.760\n",
      "REM    precision=0.682  recall=0.378  f1=0.486\n",
      "[[115  31  17   2   0]\n",
      " [ 12  46  49   0  12]\n",
      " [  4  12 337  11   9]\n",
      " [  1   0  60 117   0]\n",
      " [  1  14  59   0  45]]\n",
      "===CHANNEL C3-A2===\n"
     ]
    },
    {
     "data": {
      "text/plain": [
       "Training:   0%|          | 0/100 [00:00<?, ?it/s]"
      ],
      "application/vnd.jupyter.widget-view+json": {
       "version_major": 2,
       "version_minor": 0,
       "model_id": "b7c213b9dd0148a0a92a1a89c0994e6f"
      }
     },
     "metadata": {},
     "output_type": "display_data"
    },
    {
     "name": "stdout",
     "output_type": "stream",
     "text": [
      "1    Loss: 0.808  Accuracy: 67.372\n",
      "10   Loss: 0.524  Accuracy: 78.992\n",
      "20   Loss: 0.494  Accuracy: 80.063\n",
      "30   Loss: 0.476  Accuracy: 80.340\n",
      "40   Loss: 0.456  Accuracy: 81.563\n",
      "50   Loss: 0.436  Accuracy: 82.306\n",
      "60   Loss: 0.428  Accuracy: 82.231\n",
      "70   Loss: 0.414  Accuracy: 83.113\n",
      "80   Loss: 0.399  Accuracy: 83.819\n",
      "90   Loss: 0.391  Accuracy: 84.335\n",
      "100  Loss: 0.382  Accuracy: 84.827\n",
      "TEST RESULTS\n",
      "Loss: 1.093\n",
      "Accuracy: 0.688\n",
      "W      precision=0.877  recall=0.733  f1=0.799\n",
      "N1     precision=0.488  recall=0.521  f1=0.504\n",
      "N2     precision=0.642  recall=0.874  f1=0.740\n",
      "N3     precision=0.805  recall=0.719  f1=0.760\n",
      "REM    precision=0.864  recall=0.160  f1=0.270\n",
      "[[121  24  18   2   0]\n",
      " [ 11  62  43   1   2]\n",
      " [  4  14 326  28   1]\n",
      " [  1   0  49 128   0]\n",
      " [  1  27  72   0  19]]\n",
      "===CHANNEL O1-A2===\n"
     ]
    },
    {
     "data": {
      "text/plain": [
       "Training:   0%|          | 0/100 [00:00<?, ?it/s]"
      ],
      "application/vnd.jupyter.widget-view+json": {
       "version_major": 2,
       "version_minor": 0,
       "model_id": "96f9618301b545a5bbcf6ca02d8a26a6"
      }
     },
     "metadata": {},
     "output_type": "display_data"
    },
    {
     "name": "stdout",
     "output_type": "stream",
     "text": [
      "1    Loss: 0.801  Accuracy: 68.532\n",
      "10   Loss: 0.528  Accuracy: 78.047\n",
      "20   Loss: 0.503  Accuracy: 79.395\n",
      "30   Loss: 0.490  Accuracy: 79.672\n",
      "40   Loss: 0.469  Accuracy: 80.567\n",
      "50   Loss: 0.454  Accuracy: 81.739\n",
      "60   Loss: 0.444  Accuracy: 81.916\n",
      "70   Loss: 0.429  Accuracy: 82.483\n",
      "80   Loss: 0.417  Accuracy: 83.226\n",
      "90   Loss: 0.415  Accuracy: 83.075\n",
      "100  Loss: 0.407  Accuracy: 83.503\n",
      "TEST RESULTS\n",
      "Loss: 0.904\n",
      "Accuracy: 0.688\n",
      "W      precision=0.935  recall=0.788  f1=0.855\n",
      "N1     precision=0.424  recall=0.588  f1=0.493\n",
      "N2     precision=0.674  recall=0.853  f1=0.753\n",
      "N3     precision=0.814  recall=0.663  f1=0.731\n",
      "REM    precision=0.606  recall=0.168  f1=0.263\n",
      "[[130  24   5   3   3]\n",
      " [  6  70  38   0   5]\n",
      " [  3  23 318  24   5]\n",
      " [  0   0  60 118   0]\n",
      " [  0  48  51   0  20]]\n"
     ]
    }
   ],
   "execution_count": 5
  },
  {
   "metadata": {},
   "cell_type": "markdown",
   "source": [
    "## Different annotators\n",
    "Test subject 2, channel F3-A2"
   ],
   "id": "73db3dced79ab317"
  },
  {
   "metadata": {
    "ExecuteTime": {
     "end_time": "2024-12-22T08:53:39.869050Z",
     "start_time": "2024-12-22T03:28:52.821131Z"
    }
   },
   "cell_type": "code",
   "source": [
    "subjects_data = load_dataset(\"F3-A2\")\n",
    "for annotator in [1, 2]:\n",
    "    subjects_labels = load_annotations(annotator)\n",
    "    train_test_loop(\n",
    "        subjects_data,\n",
    "        subjects_labels,\n",
    "        test_subject=2,\n",
    "        logging=10\n",
    "    )"
   ],
   "id": "76fbb815d24f50d9",
   "outputs": [
    {
     "data": {
      "text/plain": [
       "Training:   0%|          | 0/100 [00:00<?, ?it/s]"
      ],
      "application/vnd.jupyter.widget-view+json": {
       "version_major": 2,
       "version_minor": 0,
       "model_id": "cf77ec0115e64c41aa8195fcd0fcd94b"
      }
     },
     "metadata": {},
     "output_type": "display_data"
    },
    {
     "name": "stdout",
     "output_type": "stream",
     "text": [
      "1    Loss: 0.779  Accuracy: 68.357\n",
      "10   Loss: 0.498  Accuracy: 80.020\n",
      "20   Loss: 0.462  Accuracy: 81.492\n",
      "30   Loss: 0.438  Accuracy: 82.423\n",
      "40   Loss: 0.416  Accuracy: 83.480\n",
      "50   Loss: 0.405  Accuracy: 83.392\n",
      "60   Loss: 0.392  Accuracy: 84.160\n",
      "70   Loss: 0.380  Accuracy: 84.776\n",
      "80   Loss: 0.372  Accuracy: 84.625\n",
      "90   Loss: 0.360  Accuracy: 85.204\n",
      "100  Loss: 0.339  Accuracy: 86.122\n",
      "TEST RESULTS\n",
      "Loss: 1.242\n",
      "Accuracy: 0.625\n",
      "W      precision=0.686  recall=0.722  f1=0.703\n",
      "N1     precision=0.483  recall=0.292  f1=0.364\n",
      "N2     precision=0.512  recall=0.848  f1=0.639\n",
      "N3     precision=0.950  recall=0.680  f1=0.793\n",
      "REM    precision=0.965  recall=0.340  f1=0.502\n",
      "[[ 83  16  16   0   0]\n",
      " [  8  42  92   0   2]\n",
      " [ 25  17 274   7   0]\n",
      " [  1   0  62 134   0]\n",
      " [  4  12  91   0  55]]\n"
     ]
    },
    {
     "data": {
      "text/plain": [
       "Training:   0%|          | 0/100 [00:00<?, ?it/s]"
      ],
      "application/vnd.jupyter.widget-view+json": {
       "version_major": 2,
       "version_minor": 0,
       "model_id": "e849fad41c254f028e9a98c204170e42"
      }
     },
     "metadata": {},
     "output_type": "display_data"
    },
    {
     "name": "stdout",
     "output_type": "stream",
     "text": [
      "1    Loss: 0.797  Accuracy: 67.879\n",
      "10   Loss: 0.466  Accuracy: 81.215\n",
      "20   Loss: 0.434  Accuracy: 82.838\n",
      "30   Loss: 0.418  Accuracy: 83.279\n",
      "40   Loss: 0.405  Accuracy: 83.757\n",
      "50   Loss: 0.393  Accuracy: 84.499\n",
      "60   Loss: 0.375  Accuracy: 85.531\n",
      "70   Loss: 0.360  Accuracy: 85.581\n",
      "80   Loss: 0.349  Accuracy: 86.273\n",
      "90   Loss: 0.347  Accuracy: 86.399\n",
      "100  Loss: 0.333  Accuracy: 86.777\n",
      "TEST RESULTS\n",
      "Loss: 1.441\n",
      "Accuracy: 0.630\n",
      "W      precision=0.836  recall=0.693  f1=0.758\n",
      "N1     precision=0.623  recall=0.311  f1=0.415\n",
      "N2     precision=0.499  recall=0.963  f1=0.657\n",
      "N3     precision=0.993  recall=0.588  f1=0.739\n",
      "REM    precision=0.920  recall=0.253  f1=0.397\n",
      "[[ 61   5  22   0   0]\n",
      " [  8  33  61   0   4]\n",
      " [  2   9 310   1   0]\n",
      " [  2   1  97 143   0]\n",
      " [  0   5 131   0  46]]\n"
     ]
    }
   ],
   "execution_count": 3
  },
  {
   "metadata": {},
   "cell_type": "markdown",
   "source": [
    "## Different test subjects\n",
    "Annotator 1, channel F3-A2"
   ],
   "id": "9b05f2e53592c34c"
  },
  {
   "metadata": {
    "ExecuteTime": {
     "end_time": "2024-12-23T10:54:48.153616Z",
     "start_time": "2024-12-22T23:44:55.614314Z"
    }
   },
   "cell_type": "code",
   "source": [
    "subjects_data = load_dataset(\"F3-A2\")\n",
    "subjects_labels = load_annotations(1)\n",
    "for test_subject in range(4, 11):\n",
    "    train_test_loop(\n",
    "        subjects_data,\n",
    "        subjects_labels,\n",
    "        test_subject=test_subject,\n",
    "        logging=10\n",
    "    )"
   ],
   "id": "e60b0e0728883ddd",
   "outputs": [
    {
     "data": {
      "text/plain": [
       "Training:   0%|          | 0/100 [00:00<?, ?it/s]"
      ],
      "application/vnd.jupyter.widget-view+json": {
       "version_major": 2,
       "version_minor": 0,
       "model_id": "68edcf7d2f9941af91946f7309459057"
      }
     },
     "metadata": {},
     "output_type": "display_data"
    },
    {
     "name": "stdout",
     "output_type": "stream",
     "text": [
      "1    Loss: 0.786  Accuracy: 68.870\n",
      "10   Loss: 0.511  Accuracy: 79.358\n",
      "20   Loss: 0.464  Accuracy: 81.309\n",
      "30   Loss: 0.449  Accuracy: 82.075\n",
      "40   Loss: 0.433  Accuracy: 82.359\n",
      "50   Loss: 0.422  Accuracy: 83.051\n",
      "60   Loss: 0.401  Accuracy: 84.027\n",
      "70   Loss: 0.392  Accuracy: 84.682\n",
      "80   Loss: 0.383  Accuracy: 84.361\n",
      "90   Loss: 0.372  Accuracy: 85.090\n",
      "100  Loss: 0.356  Accuracy: 85.337\n",
      "TEST RESULTS\n",
      "Loss: 1.621\n",
      "Accuracy: 0.538\n",
      "W      precision=0.870  recall=0.345  f1=0.494\n",
      "N1     precision=0.376  recall=0.584  f1=0.457\n",
      "N2     precision=0.495  recall=0.893  f1=0.637\n",
      "N3     precision=1.000  recall=0.428  f1=0.599\n",
      "REM    precision=0.455  recall=0.111  f1=0.179\n",
      "[[ 60  71  42   0   1]\n",
      " [  6  80  45   0   6]\n",
      " [  1  20 209   0   4]\n",
      " [  0   0  90  68   1]\n",
      " [  2  42  36   0  10]]\n"
     ]
    },
    {
     "data": {
      "text/plain": [
       "Training:   0%|          | 0/100 [00:00<?, ?it/s]"
      ],
      "application/vnd.jupyter.widget-view+json": {
       "version_major": 2,
       "version_minor": 0,
       "model_id": "f1ce5c3055894be3a7b3865876857b90"
      }
     },
     "metadata": {},
     "output_type": "display_data"
    },
    {
     "name": "stdout",
     "output_type": "stream",
     "text": [
      "1    Loss: 0.809  Accuracy: 67.539\n",
      "10   Loss: 0.540  Accuracy: 78.364\n",
      "20   Loss: 0.476  Accuracy: 80.566\n",
      "30   Loss: 0.460  Accuracy: 81.296\n",
      "40   Loss: 0.446  Accuracy: 82.052\n",
      "50   Loss: 0.426  Accuracy: 82.593\n",
      "60   Loss: 0.412  Accuracy: 83.373\n",
      "70   Loss: 0.408  Accuracy: 83.461\n",
      "80   Loss: 0.395  Accuracy: 83.738\n",
      "90   Loss: 0.383  Accuracy: 84.858\n",
      "100  Loss: 0.373  Accuracy: 85.022\n",
      "TEST RESULTS\n",
      "Loss: 1.190\n",
      "Accuracy: 0.627\n",
      "W      precision=0.953  recall=0.467  f1=0.627\n",
      "N1     precision=0.197  recall=0.389  f1=0.262\n",
      "N2     precision=0.613  recall=0.915  f1=0.734\n",
      "N3     precision=0.983  recall=0.600  f1=0.745\n",
      "REM    precision=0.385  recall=0.457  f1=0.418\n",
      "[[141  87  46   1  27]\n",
      " [  4  28  21   0  19]\n",
      " [  1  12 269   0  12]\n",
      " [  0   0  77 117   1]\n",
      " [  2  15  26   1  37]]\n"
     ]
    },
    {
     "data": {
      "text/plain": [
       "Training:   0%|          | 0/100 [00:00<?, ?it/s]"
      ],
      "application/vnd.jupyter.widget-view+json": {
       "version_major": 2,
       "version_minor": 0,
       "model_id": "260fd8d32cff4bccb906a58d87ebf223"
      }
     },
     "metadata": {},
     "output_type": "display_data"
    },
    {
     "name": "stdout",
     "output_type": "stream",
     "text": [
      "1    Loss: 0.784  Accuracy: 68.044\n",
      "10   Loss: 0.503  Accuracy: 80.002\n",
      "20   Loss: 0.457  Accuracy: 81.720\n",
      "30   Loss: 0.440  Accuracy: 82.703\n",
      "40   Loss: 0.427  Accuracy: 83.126\n",
      "50   Loss: 0.415  Accuracy: 83.673\n",
      "60   Loss: 0.408  Accuracy: 83.910\n",
      "70   Loss: 0.393  Accuracy: 84.134\n",
      "80   Loss: 0.391  Accuracy: 84.308\n",
      "90   Loss: 0.385  Accuracy: 84.843\n",
      "100  Loss: 0.375  Accuracy: 84.968\n",
      "TEST RESULTS\n",
      "Loss: 0.972\n",
      "Accuracy: 0.693\n",
      "W      precision=0.641  recall=0.756  f1=0.694\n",
      "N1     precision=0.608  recall=0.456  f1=0.521\n",
      "N2     precision=0.611  recall=0.838  f1=0.707\n",
      "N3     precision=0.871  recall=0.818  f1=0.843\n",
      "REM    precision=0.952  recall=0.208  f1=0.342\n",
      "[[ 59  10   6   3   0]\n",
      " [ 14  62  60   0   0]\n",
      " [ 10  10 248  27   1]\n",
      " [  2   0  43 202   0]\n",
      " [  7  20  49   0  20]]\n"
     ]
    },
    {
     "data": {
      "text/plain": [
       "Training:   0%|          | 0/100 [00:00<?, ?it/s]"
      ],
      "application/vnd.jupyter.widget-view+json": {
       "version_major": 2,
       "version_minor": 0,
       "model_id": "8027725aa6ce4323bd39375f391ef304"
      }
     },
     "metadata": {},
     "output_type": "display_data"
    },
    {
     "name": "stdout",
     "output_type": "stream",
     "text": [
      "1    Loss: 0.793  Accuracy: 67.678\n",
      "10   Loss: 0.492  Accuracy: 80.173\n",
      "20   Loss: 0.466  Accuracy: 81.288\n",
      "30   Loss: 0.443  Accuracy: 82.093\n",
      "40   Loss: 0.422  Accuracy: 82.526\n",
      "50   Loss: 0.408  Accuracy: 83.245\n",
      "60   Loss: 0.396  Accuracy: 84.025\n",
      "70   Loss: 0.387  Accuracy: 84.173\n",
      "80   Loss: 0.390  Accuracy: 83.703\n",
      "90   Loss: 0.373  Accuracy: 84.693\n",
      "100  Loss: 0.353  Accuracy: 85.734\n",
      "TEST RESULTS\n",
      "Loss: 1.528\n",
      "Accuracy: 0.630\n",
      "W      precision=0.964  recall=0.595  f1=0.735\n",
      "N1     precision=0.857  recall=0.088  f1=0.160\n",
      "N2     precision=0.353  recall=0.807  f1=0.491\n",
      "N3     precision=0.825  recall=0.863  f1=0.843\n",
      "REM    precision=0.679  recall=0.188  f1=0.295\n",
      "[[132   0  76  13   1]\n",
      " [  2   6  53   0   7]\n",
      " [  0   1 130  29   1]\n",
      " [  0   0  36 226   0]\n",
      " [  3   0  73   6  19]]\n"
     ]
    },
    {
     "data": {
      "text/plain": [
       "Training:   0%|          | 0/100 [00:00<?, ?it/s]"
      ],
      "application/vnd.jupyter.widget-view+json": {
       "version_major": 2,
       "version_minor": 0,
       "model_id": "48d47c31f0a34202b4abaf740f7ca97e"
      }
     },
     "metadata": {},
     "output_type": "display_data"
    },
    {
     "name": "stdout",
     "output_type": "stream",
     "text": [
      "1    Loss: 0.796  Accuracy: 68.031\n",
      "10   Loss: 0.514  Accuracy: 79.047\n"
     ]
    },
    {
     "name": "stderr",
     "output_type": "stream",
     "text": [
      "\n",
      "KeyboardInterrupt\n",
      "\n"
     ]
    }
   ],
   "execution_count": 6
  }
 ],
 "metadata": {
  "kernelspec": {
   "display_name": "Python 3",
   "language": "python",
   "name": "python3"
  },
  "language_info": {
   "codemirror_mode": {
    "name": "ipython",
    "version": 2
   },
   "file_extension": ".py",
   "mimetype": "text/x-python",
   "name": "python",
   "nbconvert_exporter": "python",
   "pygments_lexer": "ipython2",
   "version": "2.7.6"
  }
 },
 "nbformat": 4,
 "nbformat_minor": 5
}
