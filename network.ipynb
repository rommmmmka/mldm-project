{
 "cells": [
  {
   "cell_type": "code",
   "id": "initial_id",
   "metadata": {
    "collapsed": true,
    "ExecuteTime": {
     "end_time": "2024-12-19T02:13:00.692376Z",
     "start_time": "2024-12-19T02:12:57.947669Z"
    }
   },
   "source": [
    "import torch\n",
    "from sklearn.metrics import accuracy_score, confusion_matrix, f1_score, precision_score, recall_score\n",
    "\n",
    "from isruc_sleep import load_dataset, load_annotations\n",
    "from lightsleepnet import LightSleepNet"
   ],
   "outputs": [],
   "execution_count": 1
  },
  {
   "metadata": {
    "ExecuteTime": {
     "end_time": "2024-12-19T02:13:01.253301Z",
     "start_time": "2024-12-19T02:13:01.237246Z"
    }
   },
   "cell_type": "code",
   "source": [
    "CHANNELS = [\"F3-A2\", \"C3-A2\", \"O1-A2\", \"F4-A1\", \"C4-A1\", \"O2-A1\"]\n",
    "SLEEP_STAGES = [\"W\", \"N1\", \"N2\", \"N3\", \"REM\"]"
   ],
   "id": "9e16fe21aea1f7e7",
   "outputs": [],
   "execution_count": 2
  },
  {
   "metadata": {
    "ExecuteTime": {
     "end_time": "2024-12-19T02:13:05.336167Z",
     "start_time": "2024-12-19T02:13:01.678584Z"
    }
   },
   "cell_type": "code",
   "source": [
    "subjects_data = load_dataset()\n",
    "subjects_labels = load_annotations()"
   ],
   "id": "40cf8da905c03fb6",
   "outputs": [
    {
     "name": "stdout",
     "output_type": "stream",
     "text": [
      "Loading subject 1\n",
      "Loading subject 2\n",
      "Loading subject 3\n",
      "Loading subject 4\n",
      "Loading subject 5\n",
      "Loading subject 6\n",
      "Loading subject 7\n",
      "Loading subject 8\n",
      "Loading subject 9\n",
      "Loading subject 10\n"
     ]
    }
   ],
   "execution_count": 3
  },
  {
   "metadata": {
    "ExecuteTime": {
     "end_time": "2024-12-19T02:13:06.011483Z",
     "start_time": "2024-12-19T02:13:05.995326Z"
    }
   },
   "cell_type": "code",
   "source": "SUBJECT_TEST = 1",
   "id": "190787bae97ff60",
   "outputs": [],
   "execution_count": 4
  },
  {
   "metadata": {
    "ExecuteTime": {
     "end_time": "2024-12-19T04:54:17.544366Z",
     "start_time": "2024-12-19T02:13:06.573868Z"
    }
   },
   "cell_type": "code",
   "source": [
    "# for subject_test in range(1, 11):\n",
    "for subject_test in [SUBJECT_TEST]:\n",
    "    print(f\"===TEST SUBJECT: {subject_test}===\")\n",
    "\n",
    "    subjects_data_train = subjects_data[:subject_test - 1] + subjects_data[subject_test:]\n",
    "    subjects_label_train = subjects_labels[:subject_test - 1] + subjects_labels[subject_test:]\n",
    "    subjects_data_train_tensor = torch.cat(subjects_data_train)\n",
    "    subjects_label_train_tensor = torch.cat(subjects_label_train)\n",
    "    train_dataset = torch.utils.data.TensorDataset(subjects_data_train_tensor, subjects_label_train_tensor)\n",
    "    train_loader = torch.utils.data.DataLoader(train_dataset, batch_size=32, shuffle=True)\n",
    "\n",
    "    subject_data_test_tensor = subjects_data[subject_test - 1]\n",
    "    subject_label_test_tensor = subjects_labels[subject_test - 1]\n",
    "    test_dataset = torch.utils.data.TensorDataset(subject_data_test_tensor, subject_label_test_tensor)\n",
    "    test_loader = torch.utils.data.DataLoader(test_dataset, batch_size=32, shuffle=False)\n",
    "\n",
    "    model = LightSleepNet().to(\"cuda\")\n",
    "    optimizer = torch.optim.Adam(model.parameters())\n",
    "    criterion = torch.nn.CrossEntropyLoss()\n",
    "\n",
    "    for training_epoch in range(100):\n",
    "        print(f\"{training_epoch + 1:<5}\", end=\"\")\n",
    "\n",
    "        train_loss = 0\n",
    "        correct = 0\n",
    "        total = 0\n",
    "        for X_batch, y_batch in train_loader:\n",
    "            X_batch.requires_grad = True\n",
    "\n",
    "            outputs = model(X_batch).float()\n",
    "            loss = criterion(outputs, y_batch)\n",
    "\n",
    "            weights = []\n",
    "\n",
    "            for epoch_idx in range(X_batch.size(0)):\n",
    "                epoch_data = X_batch[epoch_idx].unsqueeze(0)\n",
    "                epoch_loss = criterion(model(epoch_data), y_batch[epoch_idx].unsqueeze(0))\n",
    "\n",
    "                epoch_grads = torch.autograd.grad(epoch_loss, epoch_data, retain_graph=True)[0]\n",
    "                grad_norms = epoch_grads.norm(p=2, dim=1).squeeze(0)\n",
    "\n",
    "                delta = 0.1 * grad_norms.std().item()\n",
    "                density = ((grad_norms.unsqueeze(1) - grad_norms.unsqueeze(0)).abs() < delta).sum(dim=1).float()\n",
    "\n",
    "                epoch_weight = density.mean()\n",
    "                weights.append(epoch_weight.detach())\n",
    "\n",
    "            weights = torch.tensor(weights, device=\"cuda\")\n",
    "            weights /= weights.sum()\n",
    "            # print(weights)\n",
    "            weighted_loss = (weights * loss).sum()\n",
    "            train_loss += weighted_loss.item()\n",
    "\n",
    "            optimizer.zero_grad()\n",
    "            weighted_loss.backward()\n",
    "            optimizer.step()\n",
    "\n",
    "            _, predicted = outputs.max(1)\n",
    "            correct += predicted.eq(y_batch).sum().item()\n",
    "            total += y_batch.size(0)\n",
    "\n",
    "        print(f\"Loss: {train_loss / len(train_loader):.3f}  Accuracy: {100 * correct / total:.3f}\")"
   ],
   "id": "86fdd41dce85cd3f",
   "outputs": [
    {
     "name": "stdout",
     "output_type": "stream",
     "text": [
      "===TEST SUBJECT: 1===\n",
      "1    Loss: 0.785  Accuracy: 68.834\n",
      "2    Loss: 0.608  Accuracy: 75.665\n",
      "3    Loss: 0.590  Accuracy: 75.892\n",
      "4    Loss: 0.569  Accuracy: 77.202\n",
      "5    Loss: 0.560  Accuracy: 77.795\n",
      "6    Loss: 0.556  Accuracy: 77.580\n",
      "7    Loss: 0.541  Accuracy: 77.996\n",
      "8    Loss: 0.537  Accuracy: 78.715\n",
      "9    Loss: 0.518  Accuracy: 79.206\n",
      "10   Loss: 0.509  Accuracy: 79.534\n",
      "11   Loss: 0.508  Accuracy: 79.067\n",
      "12   Loss: 0.494  Accuracy: 80.000\n",
      "13   Loss: 0.502  Accuracy: 79.521\n",
      "14   Loss: 0.486  Accuracy: 80.189\n",
      "15   Loss: 0.479  Accuracy: 80.428\n",
      "16   Loss: 0.480  Accuracy: 80.164\n",
      "17   Loss: 0.479  Accuracy: 80.491\n",
      "18   Loss: 0.479  Accuracy: 80.416\n",
      "19   Loss: 0.474  Accuracy: 80.290\n",
      "20   Loss: 0.469  Accuracy: 81.147\n",
      "21   Loss: 0.466  Accuracy: 80.756\n",
      "22   Loss: 0.465  Accuracy: 81.260\n",
      "23   Loss: 0.465  Accuracy: 80.945\n",
      "24   Loss: 0.466  Accuracy: 81.096\n",
      "25   Loss: 0.464  Accuracy: 81.134\n",
      "26   Loss: 0.455  Accuracy: 81.512\n",
      "27   Loss: 0.449  Accuracy: 81.865\n",
      "28   Loss: 0.456  Accuracy: 81.689\n",
      "29   Loss: 0.448  Accuracy: 81.865\n",
      "30   Loss: 0.452  Accuracy: 81.853\n",
      "31   Loss: 0.443  Accuracy: 82.306\n",
      "32   Loss: 0.451  Accuracy: 81.739\n",
      "33   Loss: 0.441  Accuracy: 82.256\n",
      "34   Loss: 0.436  Accuracy: 82.684\n",
      "35   Loss: 0.433  Accuracy: 82.659\n",
      "36   Loss: 0.433  Accuracy: 82.583\n",
      "37   Loss: 0.440  Accuracy: 82.155\n",
      "38   Loss: 0.438  Accuracy: 82.205\n",
      "39   Loss: 0.429  Accuracy: 82.836\n",
      "40   Loss: 0.432  Accuracy: 82.470\n",
      "41   Loss: 0.431  Accuracy: 82.558\n",
      "42   Loss: 0.429  Accuracy: 82.659\n",
      "43   Loss: 0.425  Accuracy: 82.647\n",
      "44   Loss: 0.433  Accuracy: 82.596\n",
      "45   Loss: 0.424  Accuracy: 82.962\n",
      "46   Loss: 0.433  Accuracy: 82.558\n",
      "47   Loss: 0.416  Accuracy: 82.785\n",
      "48   Loss: 0.424  Accuracy: 82.886\n",
      "49   Loss: 0.423  Accuracy: 83.050\n",
      "50   Loss: 0.417  Accuracy: 83.226\n",
      "51   Loss: 0.423  Accuracy: 82.924\n",
      "52   Loss: 0.415  Accuracy: 83.163\n",
      "53   Loss: 0.416  Accuracy: 83.214\n",
      "54   Loss: 0.416  Accuracy: 83.025\n",
      "55   Loss: 0.415  Accuracy: 82.924\n",
      "56   Loss: 0.418  Accuracy: 83.062\n",
      "57   Loss: 0.406  Accuracy: 83.642\n",
      "58   Loss: 0.404  Accuracy: 83.604\n",
      "59   Loss: 0.408  Accuracy: 83.856\n",
      "60   Loss: 0.411  Accuracy: 83.529\n",
      "61   Loss: 0.401  Accuracy: 84.071\n",
      "62   Loss: 0.405  Accuracy: 83.945\n",
      "63   Loss: 0.404  Accuracy: 83.579\n",
      "64   Loss: 0.403  Accuracy: 83.655\n",
      "65   Loss: 0.401  Accuracy: 83.957\n",
      "66   Loss: 0.397  Accuracy: 83.970\n",
      "67   Loss: 0.397  Accuracy: 84.146\n",
      "68   Loss: 0.395  Accuracy: 83.667\n",
      "69   Loss: 0.397  Accuracy: 83.655\n",
      "70   Loss: 0.387  Accuracy: 84.650\n",
      "71   Loss: 0.395  Accuracy: 83.869\n",
      "72   Loss: 0.387  Accuracy: 84.310\n",
      "73   Loss: 0.386  Accuracy: 84.562\n",
      "74   Loss: 0.386  Accuracy: 84.436\n",
      "75   Loss: 0.392  Accuracy: 84.033\n",
      "76   Loss: 0.385  Accuracy: 84.297\n",
      "77   Loss: 0.387  Accuracy: 84.335\n",
      "78   Loss: 0.391  Accuracy: 83.806\n",
      "79   Loss: 0.391  Accuracy: 84.083\n",
      "80   Loss: 0.380  Accuracy: 84.562\n",
      "81   Loss: 0.382  Accuracy: 84.083\n",
      "82   Loss: 0.383  Accuracy: 84.297\n",
      "83   Loss: 0.380  Accuracy: 84.537\n",
      "84   Loss: 0.384  Accuracy: 84.083\n",
      "85   Loss: 0.375  Accuracy: 84.499\n",
      "86   Loss: 0.376  Accuracy: 84.575\n",
      "87   Loss: 0.381  Accuracy: 84.549\n",
      "88   Loss: 0.372  Accuracy: 85.003\n",
      "89   Loss: 0.371  Accuracy: 84.751\n",
      "90   Loss: 0.374  Accuracy: 85.066\n",
      "91   Loss: 0.368  Accuracy: 85.331\n",
      "92   Loss: 0.372  Accuracy: 84.638\n",
      "93   Loss: 0.364  Accuracy: 85.444\n",
      "94   Loss: 0.375  Accuracy: 84.802\n",
      "95   Loss: 0.368  Accuracy: 85.154\n",
      "96   Loss: 0.382  Accuracy: 84.474\n",
      "97   Loss: 0.382  Accuracy: 84.499\n",
      "98   Loss: 0.369  Accuracy: 85.016\n",
      "99   Loss: 0.372  Accuracy: 84.701\n",
      "100  Loss: 0.367  Accuracy: 84.978\n"
     ]
    }
   ],
   "execution_count": 5
  },
  {
   "metadata": {
    "ExecuteTime": {
     "end_time": "2024-12-19T11:54:42.745221Z",
     "start_time": "2024-12-19T11:54:41.625600Z"
    }
   },
   "cell_type": "code",
   "source": [
    "y_pred = []\n",
    "test_loss = 0\n",
    "\n",
    "with torch.no_grad():\n",
    "    for X_batch, y_batch in test_loader:\n",
    "        outputs = model(X_batch)\n",
    "        loss = criterion(outputs, y_batch)\n",
    "        test_loss += loss.item()\n",
    "        _, predicted = outputs.max(1)\n",
    "        y_pred.append(predicted.cpu())\n",
    "\n",
    "y_pred = torch.cat(y_pred).numpy()\n",
    "y_true = subject_label_test_tensor.to(\"cpu\").numpy()\n",
    "\n",
    "accuracy = accuracy_score(y_true, y_pred)\n",
    "precision = precision_score(y_true, y_pred, average=None)\n",
    "recall = recall_score(y_true, y_pred, average=None)\n",
    "f1 = f1_score(y_true, y_pred, average=None)\n",
    "\n",
    "print(f\"Loss: {test_loss / len(test_loader):.3f}\")\n",
    "print(f\"Accuracy: {accuracy:.3f}\")\n",
    "for sleep_stage, precision_val, recall_val, f1_val in zip(SLEEP_STAGES, precision, recall, f1):\n",
    "    print(f\"{sleep_stage:7}precision={precision_val:.3f}  recall={recall_val:.3f}  f1={f1_val:.3f}\")"
   ],
   "id": "259b3b967d2e9748",
   "outputs": [
    {
     "name": "stdout",
     "output_type": "stream",
     "text": [
      "Loss: 1.137\n",
      "Accuracy: 0.682\n",
      "W      precision=0.891  recall=0.745  f1=0.812\n",
      "N1     precision=0.451  recall=0.538  f1=0.490\n",
      "N2     precision=0.637  recall=0.909  f1=0.749\n",
      "N3     precision=0.882  recall=0.545  f1=0.674\n",
      "REM    precision=0.875  recall=0.235  f1=0.371\n"
     ]
    }
   ],
   "execution_count": 6
  },
  {
   "metadata": {
    "ExecuteTime": {
     "end_time": "2024-12-19T11:55:39.306431Z",
     "start_time": "2024-12-19T11:55:39.294838Z"
    }
   },
   "cell_type": "code",
   "source": "confusion_matrix(y_true, y_pred)",
   "id": "181155bd6fef87c5",
   "outputs": [
    {
     "data": {
      "text/plain": [
       "array([[123,  27,  12,   3,   0],\n",
       "       [  9,  64,  43,   0,   3],\n",
       "       [  4,  19, 339,  10,   1],\n",
       "       [  1,   0,  80,  97,   0],\n",
       "       [  1,  32,  58,   0,  28]])"
      ]
     },
     "execution_count": 8,
     "metadata": {},
     "output_type": "execute_result"
    }
   ],
   "execution_count": 8
  }
 ],
 "metadata": {
  "kernelspec": {
   "display_name": "Python 3",
   "language": "python",
   "name": "python3"
  },
  "language_info": {
   "codemirror_mode": {
    "name": "ipython",
    "version": 2
   },
   "file_extension": ".py",
   "mimetype": "text/x-python",
   "name": "python",
   "nbconvert_exporter": "python",
   "pygments_lexer": "ipython2",
   "version": "2.7.6"
  }
 },
 "nbformat": 4,
 "nbformat_minor": 5
}
