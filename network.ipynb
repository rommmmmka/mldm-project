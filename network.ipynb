{
 "cells": [
  {
   "cell_type": "code",
   "id": "initial_id",
   "metadata": {
    "collapsed": true,
    "ExecuteTime": {
     "end_time": "2024-11-30T22:22:58.430932Z",
     "start_time": "2024-11-30T22:22:56.323770Z"
    }
   },
   "source": [
    "import mne\n",
    "import torch"
   ],
   "outputs": [],
   "execution_count": 1
  },
  {
   "metadata": {
    "ExecuteTime": {
     "end_time": "2024-11-30T23:41:17.024622Z",
     "start_time": "2024-11-30T23:41:17.010457Z"
    }
   },
   "cell_type": "code",
   "source": [
    "class ChannelShuffle(torch.nn.Module):\n",
    "    def __init__(self, groups):\n",
    "        super(ChannelShuffle, self).__init__()\n",
    "        self.groups = groups\n",
    "\n",
    "    def forward(self, x):\n",
    "        batch_size, channels, length = x.size()\n",
    "        x = x.view(batch_size, self.groups, channels // self.groups, length)\n",
    "        x = x.permute(0, 2, 1, 3).contiguous()\n",
    "        x = x.view(batch_size, channels, length)\n",
    "        return x\n",
    "\n",
    "\n",
    "class ResidualBlock1(torch.nn.Module):\n",
    "    def __init__(self):\n",
    "        super(ResidualBlock1, self).__init__()\n",
    "        self.conv1 = torch.nn.Conv1d(64, 64, kernel_size=16, padding=8, groups=8)\n",
    "        self.shuffle1 = ChannelShuffle(8)\n",
    "        self.conv2 = torch.nn.Conv1d(64, 64, kernel_size=16, padding=7, groups=8)\n",
    "        self.shuffle2 = ChannelShuffle(8)\n",
    "\n",
    "    def forward(self, x):\n",
    "        out = self.conv1(x)\n",
    "        out = torch.relu(out)\n",
    "        out = self.shuffle1(out)\n",
    "\n",
    "        out = self.conv2(out)\n",
    "        out = torch.relu(out)\n",
    "        out = self.shuffle2(out)\n",
    "\n",
    "        out += x\n",
    "        return out\n",
    "\n",
    "\n",
    "class ResidualBlock2(torch.nn.Module):\n",
    "    def __init__(self):\n",
    "        super(ResidualBlock2, self).__init__()\n",
    "        self.conv1 = torch.nn.Conv1d(64, 128, kernel_size=16, padding=8, stride=2, groups=16)\n",
    "        self.shuffle1 = ChannelShuffle(16)\n",
    "        self.conv2 = torch.nn.Conv1d(128, 128, kernel_size=16, padding=7, groups=16)\n",
    "        self.shuffle2 = ChannelShuffle(16)\n",
    "\n",
    "        self.match_dimensions = torch.nn.Conv1d(64, 128, kernel_size=1, stride=2)\n",
    "\n",
    "    def forward(self, x):\n",
    "        print(x.shape)\n",
    "        out = self.conv1(x)\n",
    "        print(out.shape)\n",
    "        out = torch.relu(out)\n",
    "        out = self.shuffle1(out)\n",
    "        print(out.shape)\n",
    "\n",
    "        out = self.conv2(out)\n",
    "        print(out.shape)\n",
    "        out = torch.relu(out)\n",
    "        out = self.shuffle2(out)\n",
    "        print(out.shape)\n",
    "\n",
    "        x = self.match_dimensions(x)\n",
    "        print(x.shape)\n",
    "\n",
    "        out += x\n",
    "        return out\n",
    "\n",
    "\n",
    "class LightSleepNet(torch.nn.Module):\n",
    "    def __init__(self):\n",
    "        super(LightSleepNet, self).__init__()\n",
    "        self.conv = torch.nn.Conv1d(1, 64, kernel_size=16, padding=7, stride=2)\n",
    "        self.residual1 = ResidualBlock1()\n",
    "        self.residual2 = ResidualBlock2()\n",
    "        self.dropout = torch.nn.Dropout(0.5)\n",
    "        self.pooling = torch.nn.AdaptiveAvgPool1d(1)\n",
    "        self.linear = torch.nn.Linear(128, 5)\n",
    "\n",
    "    def forward(self, x):\n",
    "        x = self.conv(x)\n",
    "        x = torch.relu(x)\n",
    "        x = self.residual1(x)\n",
    "        x = self.residual2(x)\n",
    "        x = self.dropout(x)\n",
    "        x = self.pooling(x)\n",
    "        x = torch.flatten(x, 1)\n",
    "        x = self.linear(x)\n",
    "        return torch.softmax(x, dim=1)"
   ],
   "id": "2f9ea501934a66e4",
   "outputs": [],
   "execution_count": 208
  },
  {
   "metadata": {
    "ExecuteTime": {
     "end_time": "2024-11-30T23:41:17.225981Z",
     "start_time": "2024-11-30T23:41:17.213180Z"
    }
   },
   "cell_type": "code",
   "source": "SUBJECT = 1",
   "id": "9e16fe21aea1f7e7",
   "outputs": [],
   "execution_count": 209
  },
  {
   "metadata": {
    "ExecuteTime": {
     "end_time": "2024-11-30T23:41:17.647562Z",
     "start_time": "2024-11-30T23:41:17.402500Z"
    }
   },
   "cell_type": "code",
   "source": [
    "raw = mne.io.read_raw_fif(f\"processed/{SUBJECT}/{SUBJECT}_annotator_1_eeg.fif\")\n",
    "channel_names = raw.ch_names\n",
    "channel_names"
   ],
   "id": "77c70f7f66b61910",
   "outputs": [
    {
     "name": "stdout",
     "output_type": "stream",
     "text": [
      "Opening raw data file processed/1/1_annotator_1_eeg.fif...\n",
      "    Range : 0 ... 5723999 =      0.000 ... 28619.995 secs\n",
      "Ready.\n"
     ]
    },
    {
     "data": {
      "text/plain": [
       "['F3', 'C3', 'O1', 'F4', 'C4', 'O2']"
      ]
     },
     "execution_count": 210,
     "metadata": {},
     "output_type": "execute_result"
    }
   ],
   "execution_count": 210
  },
  {
   "metadata": {
    "ExecuteTime": {
     "end_time": "2024-11-30T23:41:18.658102Z",
     "start_time": "2024-11-30T23:41:17.660970Z"
    }
   },
   "cell_type": "code",
   "source": [
    "raw.pick(channel_names[0])\n",
    "epochs = mne.make_fixed_length_epochs(raw, duration=30, preload=True)\n",
    "annotations = raw.annotations"
   ],
   "id": "5250594f0aeace54",
   "outputs": [
    {
     "name": "stdout",
     "output_type": "stream",
     "text": [
      "Not setting metadata\n",
      "954 matching events found\n",
      "No baseline correction applied\n",
      "0 projection items activated\n",
      "Loading data for 954 events and 6000 original time points ...\n",
      "0 bad epochs dropped\n"
     ]
    }
   ],
   "execution_count": 211
  },
  {
   "metadata": {
    "ExecuteTime": {
     "end_time": "2024-11-30T23:41:18.705249Z",
     "start_time": "2024-11-30T23:41:18.664893Z"
    }
   },
   "cell_type": "code",
   "source": [
    "data_tensor = torch.tensor(epochs.get_data(), dtype=torch.float32).to(\"cuda\")\n",
    "data_tensor"
   ],
   "id": "dfdc9ea9264e3882",
   "outputs": [
    {
     "data": {
      "text/plain": [
       "tensor([[[ 5.7221e-09, -1.2322e-07, -9.0448e-07,  ...,  1.1952e-06,\n",
       "           8.0148e-07,  2.9259e-07]],\n",
       "\n",
       "        [[ 1.4076e-07,  5.7259e-07,  1.2287e-06,  ..., -4.3679e-07,\n",
       "          -1.5679e-07, -4.7951e-07]],\n",
       "\n",
       "        [[-8.5183e-07, -7.4884e-07, -2.8801e-07,  ...,  5.5505e-07,\n",
       "           4.8791e-07,  1.1929e-06]],\n",
       "\n",
       "        ...,\n",
       "\n",
       "        [[ 1.4363e-06,  1.9024e-06,  2.1679e-06,  ...,  3.6915e-06,\n",
       "           2.6608e-06,  6.2829e-07]],\n",
       "\n",
       "        [[-2.1630e-07,  1.6255e-06,  4.6689e-06,  ...,  9.3061e-06,\n",
       "           9.2466e-06,  9.2840e-06]],\n",
       "\n",
       "        [[ 9.4373e-06,  9.4930e-06,  9.2550e-06,  ..., -9.7391e-07,\n",
       "          -1.1395e-06, -1.1578e-06]]], device='cuda:0')"
      ]
     },
     "execution_count": 212,
     "metadata": {},
     "output_type": "execute_result"
    }
   ],
   "execution_count": 212
  },
  {
   "metadata": {
    "ExecuteTime": {
     "end_time": "2024-11-30T23:41:18.921307Z",
     "start_time": "2024-11-30T23:41:18.786395Z"
    }
   },
   "cell_type": "code",
   "source": [
    "labels_tensor = torch.tensor(list(map(float, annotations.description)), dtype=torch.float32).to(\"cuda\")\n",
    "labels_tensor"
   ],
   "id": "4918d99b77fffed4",
   "outputs": [
    {
     "data": {
      "text/plain": [
       "tensor([0., 0., 0., 0., 0., 0., 0., 0., 0., 0., 0., 0., 0., 0., 0., 0., 0., 0.,\n",
       "        0., 0., 0., 0., 0., 0., 0., 0., 0., 0., 0., 0., 0., 0., 0., 1., 1., 1.,\n",
       "        1., 2., 2., 2., 0., 0., 0., 0., 0., 0., 1., 1., 2., 2., 2., 2., 2., 2.,\n",
       "        2., 2., 2., 2., 0., 0., 0., 0., 0., 0., 0., 0., 0., 0., 0., 0., 0., 0.,\n",
       "        0., 0., 0., 0., 0., 0., 0., 1., 0., 0., 0., 0., 1., 1., 2., 2., 2., 2.,\n",
       "        2., 2., 2., 2., 2., 3., 3., 3., 3., 3., 3., 3., 3., 3., 3., 3., 3., 3.,\n",
       "        3., 3., 3., 3., 3., 3., 3., 0., 0., 0., 0., 0., 0., 0., 0., 0., 0., 0.,\n",
       "        0., 0., 0., 0., 0., 1., 1., 1., 2., 2., 2., 2., 2., 0., 0., 0., 1., 2.,\n",
       "        2., 2., 2., 2., 2., 2., 2., 2., 2., 2., 2., 3., 3., 3., 3., 0., 1., 2.,\n",
       "        2., 2., 2., 2., 2., 0., 1., 0., 1., 0., 1., 2., 2., 1., 0., 1., 1., 1.,\n",
       "        0., 0., 0., 0., 0., 0., 0., 0., 0., 0., 1., 1., 1., 2., 2., 2., 2., 2.,\n",
       "        2., 2., 2., 3., 3., 3., 3., 2., 3., 3., 3., 3., 3., 3., 0., 1., 2., 2.,\n",
       "        2., 2., 3., 3., 3., 3., 3., 3., 3., 3., 3., 3., 3., 3., 3., 3., 3., 2.,\n",
       "        3., 3., 3., 3., 3., 3., 3., 3., 3., 3., 3., 3., 3., 3., 3., 3., 3., 3.,\n",
       "        3., 3., 3., 3., 3., 3., 3., 0., 2., 1., 1., 1., 1., 2., 2., 2., 2., 2.,\n",
       "        2., 2., 2., 2., 2., 2., 2., 2., 2., 2., 2., 2., 2., 2., 2., 2., 0., 1.,\n",
       "        1., 1., 2., 2., 2., 2., 5., 5., 5., 5., 5., 5., 5., 1., 1., 1., 2., 2.,\n",
       "        1., 1., 5., 5., 5., 1., 1., 0., 1., 1., 2., 2., 2., 2., 0., 0., 0., 0.,\n",
       "        1., 1., 1., 1., 2., 2., 2., 2., 2., 2., 2., 2., 2., 0., 2., 2., 1., 2.,\n",
       "        2., 2., 2., 2., 2., 2., 2., 3., 2., 3., 3., 3., 3., 3., 3., 3., 3., 3.,\n",
       "        3., 3., 3., 3., 3., 3., 3., 3., 3., 3., 3., 3., 3., 3., 3., 3., 3., 3.,\n",
       "        3., 3., 3., 3., 3., 3., 3., 3., 0., 0., 1., 1., 2., 2., 2., 2., 2., 2.,\n",
       "        2., 2., 2., 2., 2., 2., 2., 2., 2., 2., 2., 2., 2., 2., 2., 2., 2., 2.,\n",
       "        2., 2., 2., 2., 2., 2., 2., 2., 0., 1., 1., 1., 2., 2., 2., 2., 2., 2.,\n",
       "        2., 0., 0., 1., 0., 1., 2., 2., 2., 2., 2., 0., 1., 0., 0., 1., 0., 0.,\n",
       "        1., 2., 2., 2., 2., 2., 2., 2., 2., 2., 0., 1., 1., 1., 2., 2., 2., 2.,\n",
       "        0., 0., 1., 2., 2., 2., 2., 2., 2., 2., 2., 2., 2., 2., 2., 2., 5., 5.,\n",
       "        5., 5., 5., 5., 5., 5., 5., 5., 5., 5., 5., 5., 5., 5., 5., 5., 5., 5.,\n",
       "        5., 5., 5., 5., 5., 5., 5., 5., 5., 5., 5., 5., 5., 5., 5., 5., 5., 5.,\n",
       "        5., 5., 5., 0., 0., 0., 0., 1., 1., 1., 1., 1., 2., 2., 1., 2., 2., 2.,\n",
       "        2., 2., 2., 2., 2., 0., 0., 1., 2., 2., 2., 2., 2., 2., 2., 2., 2., 2.,\n",
       "        2., 2., 2., 2., 2., 2., 2., 2., 2., 2., 2., 2., 2., 3., 3., 3., 3., 3.,\n",
       "        3., 3., 3., 3., 3., 3., 3., 3., 3., 3., 3., 3., 3., 3., 3., 3., 3., 3.,\n",
       "        3., 3., 3., 3., 3., 3., 3., 3., 3., 3., 3., 3., 3., 3., 3., 3., 3., 3.,\n",
       "        3., 3., 3., 3., 3., 3., 3., 0., 0., 1., 1., 2., 2., 2., 2., 2., 2., 2.,\n",
       "        2., 2., 2., 2., 2., 2., 2., 2., 2., 2., 2., 2., 2., 2., 2., 2., 2., 2.,\n",
       "        2., 2., 2., 2., 2., 2., 2., 2., 2., 2., 2., 1., 1., 5., 5., 5., 5., 1.,\n",
       "        1., 1., 1., 1., 5., 5., 5., 5., 5., 5., 5., 5., 5., 5., 5., 5., 5., 5.,\n",
       "        5., 5., 5., 5., 5., 5., 5., 5., 5., 5., 5., 5., 1., 1., 5., 5., 5., 5.,\n",
       "        0., 0., 1., 0., 0., 0., 1., 1., 0., 0., 0., 1., 0., 1., 0., 0., 0., 0.,\n",
       "        1., 0., 1., 1., 1., 1., 2., 2., 0., 0., 0., 0., 0., 0., 1., 1., 1., 2.,\n",
       "        2., 2., 2., 2., 2., 2., 2., 2., 2., 2., 2., 2., 2., 2., 2., 2., 2., 2.,\n",
       "        2., 2., 2., 2., 2., 2., 2., 2., 2., 2., 2., 2., 2., 2., 3., 3., 2., 3.,\n",
       "        2., 3., 2., 3., 3., 3., 3., 3., 3., 3., 3., 3., 3., 3., 3., 3., 3., 3.,\n",
       "        3., 2., 2., 2., 1., 1., 2., 2., 2., 1., 2., 2., 2., 2., 2., 2., 2., 2.,\n",
       "        2., 2., 2., 2., 2., 2., 2., 5., 5., 5., 5., 5., 5., 1., 1., 1., 1., 1.,\n",
       "        5., 1., 5., 5., 1., 5., 5., 5., 5., 5., 0., 1., 1., 1., 1., 2., 2., 2.,\n",
       "        5., 5., 0., 0., 0., 0., 0., 1., 0., 0., 0., 0., 0., 1., 1., 1., 1., 2.,\n",
       "        2., 2., 2., 2., 2., 2., 2., 0., 0., 1., 1., 1., 2., 2., 2., 2., 2., 2.,\n",
       "        2., 2., 2., 2., 2., 2., 2., 2., 2., 1., 2., 2., 2., 2., 2., 2., 2., 2.,\n",
       "        2., 2., 2., 2., 2., 2., 2., 2., 2., 2., 2., 2., 2., 2., 2., 2., 2., 2.,\n",
       "        2., 2., 2., 2., 2., 2., 2., 2., 2., 2., 1., 5., 5., 5., 5., 5., 1., 1.,\n",
       "        5., 5., 5., 5., 5., 5., 5., 5., 5., 5., 5., 5., 5., 1., 1., 0., 0., 0.],\n",
       "       device='cuda:0')"
      ]
     },
     "execution_count": 213,
     "metadata": {},
     "output_type": "execute_result"
    }
   ],
   "execution_count": 213
  },
  {
   "metadata": {
    "ExecuteTime": {
     "end_time": "2024-11-30T23:41:19.013099Z",
     "start_time": "2024-11-30T23:41:18.994670Z"
    }
   },
   "cell_type": "code",
   "source": [
    "train_dataset = torch.utils.data.TensorDataset(data_tensor, labels_tensor)\n",
    "train_loader = torch.utils.data.DataLoader(train_dataset, batch_size=32, shuffle=True)"
   ],
   "id": "583a5139a302a49f",
   "outputs": [],
   "execution_count": 214
  },
  {
   "metadata": {
    "ExecuteTime": {
     "end_time": "2024-11-30T23:41:19.340401Z",
     "start_time": "2024-11-30T23:41:19.326525Z"
    }
   },
   "cell_type": "code",
   "source": [
    "model = LightSleepNet().to(\"cuda\")\n",
    "optimizer = torch.optim.Adam(model.parameters(), lr=1e-3)\n",
    "criterion = torch.nn.CrossEntropyLoss()"
   ],
   "id": "6896f24437164264",
   "outputs": [],
   "execution_count": 215
  },
  {
   "metadata": {
    "ExecuteTime": {
     "end_time": "2024-11-30T23:42:52.599746Z",
     "start_time": "2024-11-30T23:42:52.520008Z"
    }
   },
   "cell_type": "code",
   "source": [
    "model.train()\n",
    "for training_epoch in range(10):\n",
    "    print(training_epoch + 1)\n",
    "    for X_batch, y_batch in train_loader:\n",
    "        outputs = model(X_batch)\n",
    "        loss = criterion(outputs, y_batch)\n",
    "\n",
    "        optimizer.zero_grad()\n",
    "        loss.backward()\n",
    "        optimizer.step()"
   ],
   "id": "84e73380be152064",
   "outputs": [
    {
     "name": "stdout",
     "output_type": "stream",
     "text": [
      "1\n",
      "torch.Size([32, 64, 3000])\n",
      "torch.Size([32, 128, 1501])\n",
      "torch.Size([32, 128, 1501])\n",
      "torch.Size([32, 128, 1500])\n",
      "torch.Size([32, 128, 1500])\n",
      "torch.Size([32, 128, 1500])\n"
     ]
    },
    {
     "ename": "RuntimeError",
     "evalue": "\"nll_loss_forward_reduce_cuda_kernel_2d_index\" not implemented for 'Float'",
     "output_type": "error",
     "traceback": [
      "\u001B[1;31m---------------------------------------------------------------------------\u001B[0m",
      "\u001B[1;31mRuntimeError\u001B[0m                              Traceback (most recent call last)",
      "Cell \u001B[1;32mIn[218], line 6\u001B[0m\n\u001B[0;32m      4\u001B[0m \u001B[38;5;28;01mfor\u001B[39;00m X_batch, y_batch \u001B[38;5;129;01min\u001B[39;00m train_loader:\n\u001B[0;32m      5\u001B[0m     outputs \u001B[38;5;241m=\u001B[39m model(X_batch)\n\u001B[1;32m----> 6\u001B[0m     loss \u001B[38;5;241m=\u001B[39m \u001B[43mcriterion\u001B[49m\u001B[43m(\u001B[49m\u001B[43moutputs\u001B[49m\u001B[43m,\u001B[49m\u001B[43m \u001B[49m\u001B[43my_batch\u001B[49m\u001B[43m)\u001B[49m\n\u001B[0;32m      8\u001B[0m     optimizer\u001B[38;5;241m.\u001B[39mzero_grad()\n\u001B[0;32m      9\u001B[0m     loss\u001B[38;5;241m.\u001B[39mbackward()\n",
      "File \u001B[1;32m~\\PycharmProjects\\mldm-project\\.venv\\lib\\site-packages\\torch\\nn\\modules\\module.py:1736\u001B[0m, in \u001B[0;36mModule._wrapped_call_impl\u001B[1;34m(self, *args, **kwargs)\u001B[0m\n\u001B[0;32m   1734\u001B[0m     \u001B[38;5;28;01mreturn\u001B[39;00m \u001B[38;5;28mself\u001B[39m\u001B[38;5;241m.\u001B[39m_compiled_call_impl(\u001B[38;5;241m*\u001B[39margs, \u001B[38;5;241m*\u001B[39m\u001B[38;5;241m*\u001B[39mkwargs)  \u001B[38;5;66;03m# type: ignore[misc]\u001B[39;00m\n\u001B[0;32m   1735\u001B[0m \u001B[38;5;28;01melse\u001B[39;00m:\n\u001B[1;32m-> 1736\u001B[0m     \u001B[38;5;28;01mreturn\u001B[39;00m \u001B[38;5;28mself\u001B[39m\u001B[38;5;241m.\u001B[39m_call_impl(\u001B[38;5;241m*\u001B[39margs, \u001B[38;5;241m*\u001B[39m\u001B[38;5;241m*\u001B[39mkwargs)\n",
      "File \u001B[1;32m~\\PycharmProjects\\mldm-project\\.venv\\lib\\site-packages\\torch\\nn\\modules\\module.py:1747\u001B[0m, in \u001B[0;36mModule._call_impl\u001B[1;34m(self, *args, **kwargs)\u001B[0m\n\u001B[0;32m   1742\u001B[0m \u001B[38;5;66;03m# If we don't have any hooks, we want to skip the rest of the logic in\u001B[39;00m\n\u001B[0;32m   1743\u001B[0m \u001B[38;5;66;03m# this function, and just call forward.\u001B[39;00m\n\u001B[0;32m   1744\u001B[0m \u001B[38;5;28;01mif\u001B[39;00m \u001B[38;5;129;01mnot\u001B[39;00m (\u001B[38;5;28mself\u001B[39m\u001B[38;5;241m.\u001B[39m_backward_hooks \u001B[38;5;129;01mor\u001B[39;00m \u001B[38;5;28mself\u001B[39m\u001B[38;5;241m.\u001B[39m_backward_pre_hooks \u001B[38;5;129;01mor\u001B[39;00m \u001B[38;5;28mself\u001B[39m\u001B[38;5;241m.\u001B[39m_forward_hooks \u001B[38;5;129;01mor\u001B[39;00m \u001B[38;5;28mself\u001B[39m\u001B[38;5;241m.\u001B[39m_forward_pre_hooks\n\u001B[0;32m   1745\u001B[0m         \u001B[38;5;129;01mor\u001B[39;00m _global_backward_pre_hooks \u001B[38;5;129;01mor\u001B[39;00m _global_backward_hooks\n\u001B[0;32m   1746\u001B[0m         \u001B[38;5;129;01mor\u001B[39;00m _global_forward_hooks \u001B[38;5;129;01mor\u001B[39;00m _global_forward_pre_hooks):\n\u001B[1;32m-> 1747\u001B[0m     \u001B[38;5;28;01mreturn\u001B[39;00m forward_call(\u001B[38;5;241m*\u001B[39margs, \u001B[38;5;241m*\u001B[39m\u001B[38;5;241m*\u001B[39mkwargs)\n\u001B[0;32m   1749\u001B[0m result \u001B[38;5;241m=\u001B[39m \u001B[38;5;28;01mNone\u001B[39;00m\n\u001B[0;32m   1750\u001B[0m called_always_called_hooks \u001B[38;5;241m=\u001B[39m \u001B[38;5;28mset\u001B[39m()\n",
      "File \u001B[1;32m~\\PycharmProjects\\mldm-project\\.venv\\lib\\site-packages\\torch\\nn\\modules\\loss.py:1293\u001B[0m, in \u001B[0;36mCrossEntropyLoss.forward\u001B[1;34m(self, input, target)\u001B[0m\n\u001B[0;32m   1292\u001B[0m \u001B[38;5;28;01mdef\u001B[39;00m \u001B[38;5;21mforward\u001B[39m(\u001B[38;5;28mself\u001B[39m, \u001B[38;5;28minput\u001B[39m: Tensor, target: Tensor) \u001B[38;5;241m-\u001B[39m\u001B[38;5;241m>\u001B[39m Tensor:\n\u001B[1;32m-> 1293\u001B[0m     \u001B[38;5;28;01mreturn\u001B[39;00m \u001B[43mF\u001B[49m\u001B[38;5;241;43m.\u001B[39;49m\u001B[43mcross_entropy\u001B[49m\u001B[43m(\u001B[49m\n\u001B[0;32m   1294\u001B[0m \u001B[43m        \u001B[49m\u001B[38;5;28;43minput\u001B[39;49m\u001B[43m,\u001B[49m\n\u001B[0;32m   1295\u001B[0m \u001B[43m        \u001B[49m\u001B[43mtarget\u001B[49m\u001B[43m,\u001B[49m\n\u001B[0;32m   1296\u001B[0m \u001B[43m        \u001B[49m\u001B[43mweight\u001B[49m\u001B[38;5;241;43m=\u001B[39;49m\u001B[38;5;28;43mself\u001B[39;49m\u001B[38;5;241;43m.\u001B[39;49m\u001B[43mweight\u001B[49m\u001B[43m,\u001B[49m\n\u001B[0;32m   1297\u001B[0m \u001B[43m        \u001B[49m\u001B[43mignore_index\u001B[49m\u001B[38;5;241;43m=\u001B[39;49m\u001B[38;5;28;43mself\u001B[39;49m\u001B[38;5;241;43m.\u001B[39;49m\u001B[43mignore_index\u001B[49m\u001B[43m,\u001B[49m\n\u001B[0;32m   1298\u001B[0m \u001B[43m        \u001B[49m\u001B[43mreduction\u001B[49m\u001B[38;5;241;43m=\u001B[39;49m\u001B[38;5;28;43mself\u001B[39;49m\u001B[38;5;241;43m.\u001B[39;49m\u001B[43mreduction\u001B[49m\u001B[43m,\u001B[49m\n\u001B[0;32m   1299\u001B[0m \u001B[43m        \u001B[49m\u001B[43mlabel_smoothing\u001B[49m\u001B[38;5;241;43m=\u001B[39;49m\u001B[38;5;28;43mself\u001B[39;49m\u001B[38;5;241;43m.\u001B[39;49m\u001B[43mlabel_smoothing\u001B[49m\u001B[43m,\u001B[49m\n\u001B[0;32m   1300\u001B[0m \u001B[43m    \u001B[49m\u001B[43m)\u001B[49m\n",
      "File \u001B[1;32m~\\PycharmProjects\\mldm-project\\.venv\\lib\\site-packages\\torch\\nn\\functional.py:3479\u001B[0m, in \u001B[0;36mcross_entropy\u001B[1;34m(input, target, weight, size_average, ignore_index, reduce, reduction, label_smoothing)\u001B[0m\n\u001B[0;32m   3477\u001B[0m \u001B[38;5;28;01mif\u001B[39;00m size_average \u001B[38;5;129;01mis\u001B[39;00m \u001B[38;5;129;01mnot\u001B[39;00m \u001B[38;5;28;01mNone\u001B[39;00m \u001B[38;5;129;01mor\u001B[39;00m reduce \u001B[38;5;129;01mis\u001B[39;00m \u001B[38;5;129;01mnot\u001B[39;00m \u001B[38;5;28;01mNone\u001B[39;00m:\n\u001B[0;32m   3478\u001B[0m     reduction \u001B[38;5;241m=\u001B[39m _Reduction\u001B[38;5;241m.\u001B[39mlegacy_get_string(size_average, reduce)\n\u001B[1;32m-> 3479\u001B[0m \u001B[38;5;28;01mreturn\u001B[39;00m \u001B[43mtorch\u001B[49m\u001B[38;5;241;43m.\u001B[39;49m\u001B[43m_C\u001B[49m\u001B[38;5;241;43m.\u001B[39;49m\u001B[43m_nn\u001B[49m\u001B[38;5;241;43m.\u001B[39;49m\u001B[43mcross_entropy_loss\u001B[49m\u001B[43m(\u001B[49m\n\u001B[0;32m   3480\u001B[0m \u001B[43m    \u001B[49m\u001B[38;5;28;43minput\u001B[39;49m\u001B[43m,\u001B[49m\n\u001B[0;32m   3481\u001B[0m \u001B[43m    \u001B[49m\u001B[43mtarget\u001B[49m\u001B[43m,\u001B[49m\n\u001B[0;32m   3482\u001B[0m \u001B[43m    \u001B[49m\u001B[43mweight\u001B[49m\u001B[43m,\u001B[49m\n\u001B[0;32m   3483\u001B[0m \u001B[43m    \u001B[49m\u001B[43m_Reduction\u001B[49m\u001B[38;5;241;43m.\u001B[39;49m\u001B[43mget_enum\u001B[49m\u001B[43m(\u001B[49m\u001B[43mreduction\u001B[49m\u001B[43m)\u001B[49m\u001B[43m,\u001B[49m\n\u001B[0;32m   3484\u001B[0m \u001B[43m    \u001B[49m\u001B[43mignore_index\u001B[49m\u001B[43m,\u001B[49m\n\u001B[0;32m   3485\u001B[0m \u001B[43m    \u001B[49m\u001B[43mlabel_smoothing\u001B[49m\u001B[43m,\u001B[49m\n\u001B[0;32m   3486\u001B[0m \u001B[43m\u001B[49m\u001B[43m)\u001B[49m\n",
      "\u001B[1;31mRuntimeError\u001B[0m: \"nll_loss_forward_reduce_cuda_kernel_2d_index\" not implemented for 'Float'"
     ]
    }
   ],
   "execution_count": 218
  },
  {
   "metadata": {
    "ExecuteTime": {
     "end_time": "2024-11-30T23:16:30.008986Z",
     "start_time": "2024-11-30T23:16:29.992969Z"
    }
   },
   "cell_type": "code",
   "source": "",
   "id": "f5c05bc318a28d4",
   "outputs": [],
   "execution_count": null
  },
  {
   "metadata": {},
   "cell_type": "code",
   "outputs": [],
   "execution_count": null,
   "source": "",
   "id": "7dd0d6409dfb999b"
  }
 ],
 "metadata": {
  "kernelspec": {
   "display_name": "Python 3",
   "language": "python",
   "name": "python3"
  },
  "language_info": {
   "codemirror_mode": {
    "name": "ipython",
    "version": 2
   },
   "file_extension": ".py",
   "mimetype": "text/x-python",
   "name": "python",
   "nbconvert_exporter": "python",
   "pygments_lexer": "ipython2",
   "version": "2.7.6"
  }
 },
 "nbformat": 4,
 "nbformat_minor": 5
}
