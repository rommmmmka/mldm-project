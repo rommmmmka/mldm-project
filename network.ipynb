{
 "cells": [
  {
   "cell_type": "code",
   "id": "initial_id",
   "metadata": {
    "collapsed": true,
    "ExecuteTime": {
     "end_time": "2024-12-21T13:57:11.620304Z",
     "start_time": "2024-12-21T13:57:09.078651Z"
    }
   },
   "source": [
    "from isruc_sleep import load_dataset, load_annotations\n",
    "from utils import train_test_loop"
   ],
   "outputs": [],
   "execution_count": 1
  },
  {
   "metadata": {
    "ExecuteTime": {
     "end_time": "2024-12-21T13:57:12.093028Z",
     "start_time": "2024-12-21T13:57:12.079664Z"
    }
   },
   "cell_type": "code",
   "source": [
    "CHANNELS = [\"F3-A2\", \"C3-A2\", \"O1-A2\", \"F4-A1\", \"C4-A1\", \"O2-A1\"]\n",
    "SLEEP_STAGES = [\"W\", \"N1\", \"N2\", \"N3\", \"REM\"]"
   ],
   "id": "9e16fe21aea1f7e7",
   "outputs": [],
   "execution_count": 2
  },
  {
   "metadata": {},
   "cell_type": "markdown",
   "source": [
    "## Diferent channels\n",
    "Test subject 1, annotator 1"
   ],
   "id": "ebd2aef0b4883aff"
  },
  {
   "metadata": {
    "ExecuteTime": {
     "end_time": "2024-12-21T13:57:12.881723Z",
     "start_time": "2024-12-21T13:57:12.866006Z"
    }
   },
   "cell_type": "code",
   "source": "channels_subset = [\"F3-A2\", \"C3-A2\", \"O1-A2\"]",
   "id": "8148aa35c6095bc4",
   "outputs": [],
   "execution_count": 3
  },
  {
   "metadata": {
    "jupyter": {
     "is_executing": true
    },
    "ExecuteTime": {
     "start_time": "2024-12-21T13:57:13.278859Z"
    }
   },
   "cell_type": "code",
   "source": [
    "subjects_labels = load_annotations()\n",
    "\n",
    "for channel in channels_subset:\n",
    "    print(f\"===CHANNEL {channel}===\")\n",
    "    subjects_data = load_dataset(channel)\n",
    "    train_test_loop(\n",
    "        subjects_data,\n",
    "        subjects_labels,\n",
    "        test_subject=1,\n",
    "        logging=10\n",
    "    )"
   ],
   "id": "c0024f6a4bab9a43",
   "outputs": [
    {
     "name": "stdout",
     "output_type": "stream",
     "text": [
      "===CHANNEL F3-A2===\n"
     ]
    }
   ],
   "execution_count": null
  }
 ],
 "metadata": {
  "kernelspec": {
   "display_name": "Python 3",
   "language": "python",
   "name": "python3"
  },
  "language_info": {
   "codemirror_mode": {
    "name": "ipython",
    "version": 2
   },
   "file_extension": ".py",
   "mimetype": "text/x-python",
   "name": "python",
   "nbconvert_exporter": "python",
   "pygments_lexer": "ipython2",
   "version": "2.7.6"
  }
 },
 "nbformat": 4,
 "nbformat_minor": 5
}
