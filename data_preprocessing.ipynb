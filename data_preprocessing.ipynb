{
 "cells": [
  {
   "cell_type": "code",
   "id": "initial_id",
   "metadata": {
    "collapsed": true,
    "ExecuteTime": {
     "end_time": "2024-11-29T14:32:52.806498Z",
     "start_time": "2024-11-29T14:32:52.790837Z"
    }
   },
   "source": "import mne",
   "outputs": [],
   "execution_count": 22
  },
  {
   "metadata": {
    "ExecuteTime": {
     "end_time": "2024-11-29T14:32:53.294311Z",
     "start_time": "2024-11-29T14:32:53.278660Z"
    }
   },
   "cell_type": "code",
   "source": [
    "CHANNELS = [\"F3-A2\", \"C3-A2\", \"O1-A2\", \"F4-A1\", \"C4-A1\", \"O2-A1\"]\n",
    "RECORDING = 1"
   ],
   "id": "92e7fc7b246e4908",
   "outputs": [],
   "execution_count": 23
  },
  {
   "metadata": {
    "ExecuteTime": {
     "end_time": "2024-11-29T14:32:54.168448Z",
     "start_time": "2024-11-29T14:32:53.712936Z"
    }
   },
   "cell_type": "code",
   "source": [
    "raw_edf: mne.io.Raw = mne.io.read_raw_edf(\n",
    "    f\"isruc_s3/{RECORDING}/{RECORDING}.edf\",\n",
    "    preload=True,\n",
    "    include=CHANNELS\n",
    ")"
   ],
   "id": "98f97ef2de5a9d85",
   "outputs": [
    {
     "name": "stdout",
     "output_type": "stream",
     "text": [
      "Extracting EDF parameters from C:\\Users\\Raman\\PycharmProjects\\mldm-project\\isruc_s3\\1\\1.edf...\n",
      "EDF file detected\n",
      "Setting channel info structure...\n",
      "Creating raw.info structure...\n",
      "Reading 0 ... 5723999  =      0.000 ... 28619.995 secs...\n"
     ]
    }
   ],
   "execution_count": 24
  },
  {
   "metadata": {
    "ExecuteTime": {
     "end_time": "2024-11-29T14:32:54.851184Z",
     "start_time": "2024-11-29T14:32:54.835112Z"
    }
   },
   "cell_type": "code",
   "source": [
    "with open(f\"isruc_s3/{RECORDING}/{RECORDING}_1.txt\", mode=\"r\", encoding=\"utf-8\") as file:\n",
    "    annotator_1 = list(\n",
    "        map(int, file.read().strip().split(\"\\n\"))\n",
    "    )\n",
    "with open(f\"isruc_s3/{RECORDING}/{RECORDING}_2.txt\", mode=\"r\", encoding=\"utf-8\") as file:\n",
    "    annotator_2 = list(\n",
    "        map(int, file.read().strip().split(\"\\n\"))\n",
    "    )"
   ],
   "id": "4ec01bce64445d64",
   "outputs": [],
   "execution_count": 25
  },
  {
   "metadata": {
    "ExecuteTime": {
     "end_time": "2024-11-29T14:32:55.319738Z",
     "start_time": "2024-11-29T14:32:55.312047Z"
    }
   },
   "cell_type": "code",
   "source": [
    "annotations_onsets = {\"separate\": [], \"combined\": []}\n",
    "annotations_descriptions = {\"annotator_1\": [], \"annotator_2\": [], \"combined\": []}\n",
    "\n",
    "for i, (stage_1, stage_2) in enumerate(zip(annotator_1, annotator_2)):\n",
    "    annotations_onsets[\"separate\"].append(i * 30)\n",
    "    annotations_descriptions[\"annotator_1\"].append(stage_1)\n",
    "    annotations_descriptions[\"annotator_2\"].append(stage_2)\n",
    "\n",
    "    if stage_1 != stage_2:\n",
    "        continue\n",
    "    annotations_onsets[\"combined\"].append(i * 30)\n",
    "    annotations_descriptions[\"combined\"].append(stage_1)"
   ],
   "id": "8480313ef8065f36",
   "outputs": [],
   "execution_count": 26
  },
  {
   "metadata": {
    "ExecuteTime": {
     "end_time": "2024-11-29T14:33:09.107307Z",
     "start_time": "2024-11-29T14:33:06.719080Z"
    }
   },
   "cell_type": "code",
   "source": [
    "annotated_edf = raw_edf.copy().set_annotations(\n",
    "    mne.Annotations(\n",
    "        onset=annotations_onsets[\"separate\"],\n",
    "        duration=30,\n",
    "        description=annotations_descriptions[\"annotator_1\"]\n",
    "    )\n",
    ")\n",
    "annotated_edf.save(f\"processed/{RECORDING}/{RECORDING}_1_eeg.fif\", overwrite=True)"
   ],
   "id": "54315303c8fb5275",
   "outputs": [
    {
     "name": "stdout",
     "output_type": "stream",
     "text": [
      "Overwriting existing file.\n",
      "Writing C:\\Users\\Raman\\PycharmProjects\\mldm-project\\processed\\1\\1_1_eeg.fif\n",
      "Closing C:\\Users\\Raman\\PycharmProjects\\mldm-project\\processed\\1\\1_1_eeg.fif\n",
      "[done]\n"
     ]
    }
   ],
   "execution_count": 30
  },
  {
   "metadata": {
    "ExecuteTime": {
     "end_time": "2024-11-29T14:33:11.971810Z",
     "start_time": "2024-11-29T14:33:09.663169Z"
    }
   },
   "cell_type": "code",
   "source": [
    "annotated_edf = raw_edf.copy().set_annotations(\n",
    "    mne.Annotations(\n",
    "        onset=annotations_onsets[\"separate\"],\n",
    "        duration=30,\n",
    "        description=annotations_descriptions[\"annotator_2\"]\n",
    "    )\n",
    ")\n",
    "annotated_edf.save(f\"processed/{RECORDING}/{RECORDING}_2_eeg.fif\", overwrite=True)"
   ],
   "id": "ffa80ad206c48463",
   "outputs": [
    {
     "name": "stdout",
     "output_type": "stream",
     "text": [
      "Overwriting existing file.\n",
      "Writing C:\\Users\\Raman\\PycharmProjects\\mldm-project\\processed\\1\\1_2_eeg.fif\n",
      "Closing C:\\Users\\Raman\\PycharmProjects\\mldm-project\\processed\\1\\1_2_eeg.fif\n",
      "[done]\n"
     ]
    }
   ],
   "execution_count": 31
  },
  {
   "metadata": {
    "ExecuteTime": {
     "end_time": "2024-11-29T14:33:15.387816Z",
     "start_time": "2024-11-29T14:33:13.093593Z"
    }
   },
   "cell_type": "code",
   "source": [
    "annotated_edf = raw_edf.copy().set_annotations(\n",
    "    mne.Annotations(\n",
    "        onset=annotations_onsets[\"combined\"],\n",
    "        duration=30,\n",
    "        description=annotations_descriptions[\"combined\"]\n",
    "    )\n",
    ")\n",
    "annotated_edf.save(f\"processed/{RECORDING}/{RECORDING}_combined_eeg.fif\", overwrite=True)"
   ],
   "id": "e97f51f37f6bb4d4",
   "outputs": [
    {
     "name": "stdout",
     "output_type": "stream",
     "text": [
      "Overwriting existing file.\n",
      "Writing C:\\Users\\Raman\\PycharmProjects\\mldm-project\\processed\\1\\1_combined_eeg.fif\n",
      "Closing C:\\Users\\Raman\\PycharmProjects\\mldm-project\\processed\\1\\1_combined_eeg.fif\n",
      "[done]\n"
     ]
    }
   ],
   "execution_count": 32
  }
 ],
 "metadata": {
  "kernelspec": {
   "display_name": "Python 3",
   "language": "python",
   "name": "python3"
  },
  "language_info": {
   "codemirror_mode": {
    "name": "ipython",
    "version": 2
   },
   "file_extension": ".py",
   "mimetype": "text/x-python",
   "name": "python",
   "nbconvert_exporter": "python",
   "pygments_lexer": "ipython2",
   "version": "2.7.6"
  }
 },
 "nbformat": 4,
 "nbformat_minor": 5
}
